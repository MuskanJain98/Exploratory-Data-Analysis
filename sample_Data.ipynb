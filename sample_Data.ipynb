{
 "cells": [
  {
   "cell_type": "code",
   "execution_count": 1,
   "id": "4761cac9",
   "metadata": {},
   "outputs": [],
   "source": [
    "import os\n",
    "import numpy as np\n",
    "import pandas as pd\n",
    "os.chdir(\"C:/Users/Muskan/Downloads\")\n",
    "Sales_data=pd.read_excel(\"Sample Product Data.xlsx\")"
   ]
  },
  {
   "cell_type": "markdown",
   "id": "ea2d1360",
   "metadata": {},
   "source": [
    "## Importing and Pre-processing the data"
   ]
  },
  {
   "cell_type": "code",
   "execution_count": 2,
   "id": "874291b7",
   "metadata": {},
   "outputs": [],
   "source": [
    "#making a copy of the dataset so the original can stay intact\n",
    "Sales_data_copy=Sales_data.copy()"
   ]
  },
  {
   "cell_type": "code",
   "execution_count": 3,
   "id": "4da96687",
   "metadata": {},
   "outputs": [
    {
     "data": {
      "text/plain": [
       "(2170, 21)"
      ]
     },
     "execution_count": 3,
     "metadata": {},
     "output_type": "execute_result"
    }
   ],
   "source": [
    "Sales_data_copy.shape"
   ]
  },
  {
   "cell_type": "code",
   "execution_count": 4,
   "id": "414a86bb",
   "metadata": {},
   "outputs": [
    {
     "name": "stdout",
     "output_type": "stream",
     "text": [
      "<class 'pandas.core.frame.DataFrame'>\n",
      "RangeIndex: 2170 entries, 0 to 2169\n",
      "Data columns (total 21 columns):\n",
      " #   Column                     Non-Null Count  Dtype         \n",
      "---  ------                     --------------  -----         \n",
      " 0   SKU                        2170 non-null   object        \n",
      " 1   Product_Name               2170 non-null   object        \n",
      " 2   Date                       2170 non-null   datetime64[ns]\n",
      " 3   itemRevenue                126 non-null    float64       \n",
      " 4   itemQuantity               2170 non-null   int64         \n",
      " 5   buyToDetailRate            2170 non-null   float64       \n",
      " 6   productAddsToCart          2170 non-null   int64         \n",
      " 7   cartToDetailRate           2170 non-null   float64       \n",
      " 8   uniquePurchases            2170 non-null   int64         \n",
      " 9   quantityAddedToCart        2170 non-null   int64         \n",
      " 10  revenuePerItem             2170 non-null   float64       \n",
      " 11  productRevenuePerPurchase  2170 non-null   float64       \n",
      " 12  itemsPerPurchase           2170 non-null   int64         \n",
      " 13  productDetailViews         2170 non-null   int64         \n",
      " 14  sessions                   2170 non-null   int64         \n",
      " 15  bounceRate                 2170 non-null   float64       \n",
      " 16  pageViews                  2170 non-null   int64         \n",
      " 17  pageviewsPerSession        2170 non-null   int64         \n",
      " 18  sessionDuration            2170 non-null   int64         \n",
      " 19  users                      2170 non-null   int64         \n",
      " 20  newUsers                   2170 non-null   int64         \n",
      "dtypes: datetime64[ns](1), float64(6), int64(12), object(2)\n",
      "memory usage: 356.1+ KB\n"
     ]
    }
   ],
   "source": [
    "#quick glance at the dataset columns types\n",
    "Sales_data_copy.info()\n",
    "#all column types look apt to the information they contain"
   ]
  },
  {
   "cell_type": "code",
   "execution_count": 5,
   "id": "a3df49c8",
   "metadata": {},
   "outputs": [
    {
     "data": {
      "text/html": [
       "<div>\n",
       "<style scoped>\n",
       "    .dataframe tbody tr th:only-of-type {\n",
       "        vertical-align: middle;\n",
       "    }\n",
       "\n",
       "    .dataframe tbody tr th {\n",
       "        vertical-align: top;\n",
       "    }\n",
       "\n",
       "    .dataframe thead th {\n",
       "        text-align: right;\n",
       "    }\n",
       "</style>\n",
       "<table border=\"1\" class=\"dataframe\">\n",
       "  <thead>\n",
       "    <tr style=\"text-align: right;\">\n",
       "      <th></th>\n",
       "      <th>SKU</th>\n",
       "      <th>Product_Name</th>\n",
       "      <th>Date</th>\n",
       "      <th>itemRevenue</th>\n",
       "      <th>itemQuantity</th>\n",
       "      <th>buyToDetailRate</th>\n",
       "      <th>productAddsToCart</th>\n",
       "      <th>cartToDetailRate</th>\n",
       "      <th>uniquePurchases</th>\n",
       "      <th>quantityAddedToCart</th>\n",
       "      <th>...</th>\n",
       "      <th>productRevenuePerPurchase</th>\n",
       "      <th>itemsPerPurchase</th>\n",
       "      <th>productDetailViews</th>\n",
       "      <th>sessions</th>\n",
       "      <th>bounceRate</th>\n",
       "      <th>pageViews</th>\n",
       "      <th>pageviewsPerSession</th>\n",
       "      <th>sessionDuration</th>\n",
       "      <th>users</th>\n",
       "      <th>newUsers</th>\n",
       "    </tr>\n",
       "  </thead>\n",
       "  <tbody>\n",
       "    <tr>\n",
       "      <th>0</th>\n",
       "      <td>A1R11603GBLK00011G749</td>\n",
       "      <td>Men's  Plus Black Sandal</td>\n",
       "      <td>2021-06-07</td>\n",
       "      <td>749.0</td>\n",
       "      <td>1</td>\n",
       "      <td>0.584771</td>\n",
       "      <td>0</td>\n",
       "      <td>0.550132</td>\n",
       "      <td>1</td>\n",
       "      <td>0</td>\n",
       "      <td>...</td>\n",
       "      <td>749.0</td>\n",
       "      <td>1</td>\n",
       "      <td>0</td>\n",
       "      <td>10</td>\n",
       "      <td>0.532958</td>\n",
       "      <td>100</td>\n",
       "      <td>0</td>\n",
       "      <td>120</td>\n",
       "      <td>1</td>\n",
       "      <td>0</td>\n",
       "    </tr>\n",
       "    <tr>\n",
       "      <th>1</th>\n",
       "      <td>A1PU9601GTAN00008G539</td>\n",
       "      <td>Men's Brown  Sandals</td>\n",
       "      <td>2021-06-07</td>\n",
       "      <td>539.0</td>\n",
       "      <td>1</td>\n",
       "      <td>0.102999</td>\n",
       "      <td>1</td>\n",
       "      <td>0.411237</td>\n",
       "      <td>1</td>\n",
       "      <td>1</td>\n",
       "      <td>...</td>\n",
       "      <td>539.0</td>\n",
       "      <td>1</td>\n",
       "      <td>0</td>\n",
       "      <td>10</td>\n",
       "      <td>0.707097</td>\n",
       "      <td>100</td>\n",
       "      <td>0</td>\n",
       "      <td>227</td>\n",
       "      <td>1</td>\n",
       "      <td>0</td>\n",
       "    </tr>\n",
       "    <tr>\n",
       "      <th>2</th>\n",
       "      <td>A1FB9102GPBYL00007G499</td>\n",
       "      <td>Men's Blue  Sandals</td>\n",
       "      <td>2021-06-07</td>\n",
       "      <td>499.0</td>\n",
       "      <td>1</td>\n",
       "      <td>0.384049</td>\n",
       "      <td>2</td>\n",
       "      <td>0.851673</td>\n",
       "      <td>1</td>\n",
       "      <td>2</td>\n",
       "      <td>...</td>\n",
       "      <td>499.0</td>\n",
       "      <td>1</td>\n",
       "      <td>0</td>\n",
       "      <td>10</td>\n",
       "      <td>0.879106</td>\n",
       "      <td>100</td>\n",
       "      <td>0</td>\n",
       "      <td>972</td>\n",
       "      <td>1</td>\n",
       "      <td>0</td>\n",
       "    </tr>\n",
       "    <tr>\n",
       "      <th>3</th>\n",
       "      <td>A1FB9572GPTAN00006G499</td>\n",
       "      <td>Men's   Tan Formal Shoes</td>\n",
       "      <td>2021-06-07</td>\n",
       "      <td>499.0</td>\n",
       "      <td>1</td>\n",
       "      <td>0.663615</td>\n",
       "      <td>3</td>\n",
       "      <td>0.252067</td>\n",
       "      <td>1</td>\n",
       "      <td>3</td>\n",
       "      <td>...</td>\n",
       "      <td>499.0</td>\n",
       "      <td>1</td>\n",
       "      <td>0</td>\n",
       "      <td>10</td>\n",
       "      <td>0.879087</td>\n",
       "      <td>100</td>\n",
       "      <td>0</td>\n",
       "      <td>470</td>\n",
       "      <td>1</td>\n",
       "      <td>0</td>\n",
       "    </tr>\n",
       "    <tr>\n",
       "      <th>4</th>\n",
       "      <td>A1EV1420LBLK00007G110</td>\n",
       "      <td>Women's  Black Flip-Flops</td>\n",
       "      <td>2021-06-07</td>\n",
       "      <td>658.0</td>\n",
       "      <td>2</td>\n",
       "      <td>0.659111</td>\n",
       "      <td>1</td>\n",
       "      <td>0.924743</td>\n",
       "      <td>2</td>\n",
       "      <td>1</td>\n",
       "      <td>...</td>\n",
       "      <td>329.0</td>\n",
       "      <td>1</td>\n",
       "      <td>0</td>\n",
       "      <td>10</td>\n",
       "      <td>0.368253</td>\n",
       "      <td>100</td>\n",
       "      <td>0</td>\n",
       "      <td>376</td>\n",
       "      <td>1</td>\n",
       "      <td>1</td>\n",
       "    </tr>\n",
       "  </tbody>\n",
       "</table>\n",
       "<p>5 rows × 21 columns</p>\n",
       "</div>"
      ],
      "text/plain": [
       "                      SKU               Product_Name       Date  itemRevenue  \\\n",
       "0   A1R11603GBLK00011G749   Men's  Plus Black Sandal 2021-06-07        749.0   \n",
       "1   A1PU9601GTAN00008G539       Men's Brown  Sandals 2021-06-07        539.0   \n",
       "2  A1FB9102GPBYL00007G499        Men's Blue  Sandals 2021-06-07        499.0   \n",
       "3  A1FB9572GPTAN00006G499   Men's   Tan Formal Shoes 2021-06-07        499.0   \n",
       "4   A1EV1420LBLK00007G110  Women's  Black Flip-Flops 2021-06-07        658.0   \n",
       "\n",
       "   itemQuantity  buyToDetailRate  productAddsToCart  cartToDetailRate  \\\n",
       "0             1         0.584771                  0          0.550132   \n",
       "1             1         0.102999                  1          0.411237   \n",
       "2             1         0.384049                  2          0.851673   \n",
       "3             1         0.663615                  3          0.252067   \n",
       "4             2         0.659111                  1          0.924743   \n",
       "\n",
       "   uniquePurchases  quantityAddedToCart  ...  productRevenuePerPurchase  \\\n",
       "0                1                    0  ...                      749.0   \n",
       "1                1                    1  ...                      539.0   \n",
       "2                1                    2  ...                      499.0   \n",
       "3                1                    3  ...                      499.0   \n",
       "4                2                    1  ...                      329.0   \n",
       "\n",
       "   itemsPerPurchase  productDetailViews  sessions  bounceRate  pageViews  \\\n",
       "0                 1                   0        10    0.532958        100   \n",
       "1                 1                   0        10    0.707097        100   \n",
       "2                 1                   0        10    0.879106        100   \n",
       "3                 1                   0        10    0.879087        100   \n",
       "4                 1                   0        10    0.368253        100   \n",
       "\n",
       "   pageviewsPerSession  sessionDuration  users  newUsers  \n",
       "0                    0              120      1         0  \n",
       "1                    0              227      1         0  \n",
       "2                    0              972      1         0  \n",
       "3                    0              470      1         0  \n",
       "4                    0              376      1         1  \n",
       "\n",
       "[5 rows x 21 columns]"
      ]
     },
     "execution_count": 5,
     "metadata": {},
     "output_type": "execute_result"
    }
   ],
   "source": [
    "Sales_data_copy.head()"
   ]
  },
  {
   "cell_type": "code",
   "execution_count": 6,
   "id": "da886a83",
   "metadata": {
    "scrolled": true
   },
   "outputs": [
    {
     "data": {
      "text/html": [
       "<div>\n",
       "<style scoped>\n",
       "    .dataframe tbody tr th:only-of-type {\n",
       "        vertical-align: middle;\n",
       "    }\n",
       "\n",
       "    .dataframe tbody tr th {\n",
       "        vertical-align: top;\n",
       "    }\n",
       "\n",
       "    .dataframe thead th {\n",
       "        text-align: right;\n",
       "    }\n",
       "</style>\n",
       "<table border=\"1\" class=\"dataframe\">\n",
       "  <thead>\n",
       "    <tr style=\"text-align: right;\">\n",
       "      <th></th>\n",
       "      <th>SKU</th>\n",
       "      <th>Product_Name</th>\n",
       "      <th>Date</th>\n",
       "      <th>itemRevenue</th>\n",
       "      <th>itemQuantity</th>\n",
       "      <th>buyToDetailRate</th>\n",
       "      <th>productAddsToCart</th>\n",
       "      <th>cartToDetailRate</th>\n",
       "      <th>uniquePurchases</th>\n",
       "      <th>quantityAddedToCart</th>\n",
       "      <th>...</th>\n",
       "      <th>productRevenuePerPurchase</th>\n",
       "      <th>itemsPerPurchase</th>\n",
       "      <th>productDetailViews</th>\n",
       "      <th>sessions</th>\n",
       "      <th>bounceRate</th>\n",
       "      <th>pageViews</th>\n",
       "      <th>pageviewsPerSession</th>\n",
       "      <th>sessionDuration</th>\n",
       "      <th>users</th>\n",
       "      <th>newUsers</th>\n",
       "    </tr>\n",
       "  </thead>\n",
       "  <tbody>\n",
       "    <tr>\n",
       "      <th>2165</th>\n",
       "      <td>FB9104GP-Grey-Blue</td>\n",
       "      <td>Men's Grey &amp; Blue  Sandals</td>\n",
       "      <td>2021-06-06</td>\n",
       "      <td>NaN</td>\n",
       "      <td>0</td>\n",
       "      <td>0.941969</td>\n",
       "      <td>0</td>\n",
       "      <td>0.848642</td>\n",
       "      <td>0</td>\n",
       "      <td>0</td>\n",
       "      <td>...</td>\n",
       "      <td>0.0</td>\n",
       "      <td>0</td>\n",
       "      <td>4</td>\n",
       "      <td>30</td>\n",
       "      <td>0.201389</td>\n",
       "      <td>300</td>\n",
       "      <td>0</td>\n",
       "      <td>983</td>\n",
       "      <td>3</td>\n",
       "      <td>3</td>\n",
       "    </tr>\n",
       "    <tr>\n",
       "      <th>2166</th>\n",
       "      <td>FB9106GP-RED</td>\n",
       "      <td>Men's Red  Sandals</td>\n",
       "      <td>2021-06-06</td>\n",
       "      <td>NaN</td>\n",
       "      <td>0</td>\n",
       "      <td>0.530682</td>\n",
       "      <td>0</td>\n",
       "      <td>0.123268</td>\n",
       "      <td>0</td>\n",
       "      <td>0</td>\n",
       "      <td>...</td>\n",
       "      <td>0.0</td>\n",
       "      <td>0</td>\n",
       "      <td>3</td>\n",
       "      <td>30</td>\n",
       "      <td>0.606967</td>\n",
       "      <td>300</td>\n",
       "      <td>0</td>\n",
       "      <td>733</td>\n",
       "      <td>3</td>\n",
       "      <td>1</td>\n",
       "    </tr>\n",
       "    <tr>\n",
       "      <th>2167</th>\n",
       "      <td>FB9107BP-Black-Orange</td>\n",
       "      <td>Kids P-Toes Black-Orange Sandal</td>\n",
       "      <td>2021-06-06</td>\n",
       "      <td>NaN</td>\n",
       "      <td>0</td>\n",
       "      <td>0.680434</td>\n",
       "      <td>0</td>\n",
       "      <td>0.845030</td>\n",
       "      <td>0</td>\n",
       "      <td>0</td>\n",
       "      <td>...</td>\n",
       "      <td>0.0</td>\n",
       "      <td>0</td>\n",
       "      <td>2</td>\n",
       "      <td>20</td>\n",
       "      <td>0.134253</td>\n",
       "      <td>200</td>\n",
       "      <td>0</td>\n",
       "      <td>886</td>\n",
       "      <td>2</td>\n",
       "      <td>0</td>\n",
       "    </tr>\n",
       "    <tr>\n",
       "      <th>2168</th>\n",
       "      <td>FB9107BP-Grey-Blue</td>\n",
       "      <td>Kids Grey &amp; Blue P-Toes Sandals</td>\n",
       "      <td>2021-06-06</td>\n",
       "      <td>NaN</td>\n",
       "      <td>0</td>\n",
       "      <td>0.970378</td>\n",
       "      <td>0</td>\n",
       "      <td>0.509889</td>\n",
       "      <td>0</td>\n",
       "      <td>0</td>\n",
       "      <td>...</td>\n",
       "      <td>0.0</td>\n",
       "      <td>0</td>\n",
       "      <td>2</td>\n",
       "      <td>10</td>\n",
       "      <td>0.066330</td>\n",
       "      <td>100</td>\n",
       "      <td>0</td>\n",
       "      <td>908</td>\n",
       "      <td>1</td>\n",
       "      <td>0</td>\n",
       "    </tr>\n",
       "    <tr>\n",
       "      <th>2169</th>\n",
       "      <td>R15503G42G699</td>\n",
       "      <td>Men's Black  Formal Belt</td>\n",
       "      <td>2021-06-06</td>\n",
       "      <td>NaN</td>\n",
       "      <td>0</td>\n",
       "      <td>0.004284</td>\n",
       "      <td>1</td>\n",
       "      <td>0.457287</td>\n",
       "      <td>0</td>\n",
       "      <td>1</td>\n",
       "      <td>...</td>\n",
       "      <td>0.0</td>\n",
       "      <td>0</td>\n",
       "      <td>0</td>\n",
       "      <td>10</td>\n",
       "      <td>0.933676</td>\n",
       "      <td>100</td>\n",
       "      <td>0</td>\n",
       "      <td>293</td>\n",
       "      <td>1</td>\n",
       "      <td>1</td>\n",
       "    </tr>\n",
       "  </tbody>\n",
       "</table>\n",
       "<p>5 rows × 21 columns</p>\n",
       "</div>"
      ],
      "text/plain": [
       "                        SKU                     Product_Name       Date  \\\n",
       "2165     FB9104GP-Grey-Blue       Men's Grey & Blue  Sandals 2021-06-06   \n",
       "2166           FB9106GP-RED               Men's Red  Sandals 2021-06-06   \n",
       "2167  FB9107BP-Black-Orange  Kids P-Toes Black-Orange Sandal 2021-06-06   \n",
       "2168     FB9107BP-Grey-Blue  Kids Grey & Blue P-Toes Sandals 2021-06-06   \n",
       "2169          R15503G42G699         Men's Black  Formal Belt 2021-06-06   \n",
       "\n",
       "      itemRevenue  itemQuantity  buyToDetailRate  productAddsToCart  \\\n",
       "2165          NaN             0         0.941969                  0   \n",
       "2166          NaN             0         0.530682                  0   \n",
       "2167          NaN             0         0.680434                  0   \n",
       "2168          NaN             0         0.970378                  0   \n",
       "2169          NaN             0         0.004284                  1   \n",
       "\n",
       "      cartToDetailRate  uniquePurchases  quantityAddedToCart  ...  \\\n",
       "2165          0.848642                0                    0  ...   \n",
       "2166          0.123268                0                    0  ...   \n",
       "2167          0.845030                0                    0  ...   \n",
       "2168          0.509889                0                    0  ...   \n",
       "2169          0.457287                0                    1  ...   \n",
       "\n",
       "      productRevenuePerPurchase  itemsPerPurchase  productDetailViews  \\\n",
       "2165                        0.0                 0                   4   \n",
       "2166                        0.0                 0                   3   \n",
       "2167                        0.0                 0                   2   \n",
       "2168                        0.0                 0                   2   \n",
       "2169                        0.0                 0                   0   \n",
       "\n",
       "      sessions  bounceRate  pageViews  pageviewsPerSession  sessionDuration  \\\n",
       "2165        30    0.201389        300                    0              983   \n",
       "2166        30    0.606967        300                    0              733   \n",
       "2167        20    0.134253        200                    0              886   \n",
       "2168        10    0.066330        100                    0              908   \n",
       "2169        10    0.933676        100                    0              293   \n",
       "\n",
       "      users  newUsers  \n",
       "2165      3         3  \n",
       "2166      3         1  \n",
       "2167      2         0  \n",
       "2168      1         0  \n",
       "2169      1         1  \n",
       "\n",
       "[5 rows x 21 columns]"
      ]
     },
     "execution_count": 6,
     "metadata": {},
     "output_type": "execute_result"
    }
   ],
   "source": [
    "Sales_data_copy.tail()"
   ]
  },
  {
   "cell_type": "markdown",
   "id": "8c9b79b8",
   "metadata": {},
   "source": [
    "#### Dropping SKU column as Product name is sufficient "
   ]
  },
  {
   "cell_type": "code",
   "execution_count": 7,
   "id": "174f6bb4",
   "metadata": {},
   "outputs": [],
   "source": [
    "Sales_data_copy.drop('SKU',axis='columns',inplace=True)"
   ]
  },
  {
   "cell_type": "code",
   "execution_count": 8,
   "id": "24570fd3",
   "metadata": {},
   "outputs": [
    {
     "data": {
      "text/html": [
       "<div>\n",
       "<style scoped>\n",
       "    .dataframe tbody tr th:only-of-type {\n",
       "        vertical-align: middle;\n",
       "    }\n",
       "\n",
       "    .dataframe tbody tr th {\n",
       "        vertical-align: top;\n",
       "    }\n",
       "\n",
       "    .dataframe thead th {\n",
       "        text-align: right;\n",
       "    }\n",
       "</style>\n",
       "<table border=\"1\" class=\"dataframe\">\n",
       "  <thead>\n",
       "    <tr style=\"text-align: right;\">\n",
       "      <th></th>\n",
       "      <th>Product_Name</th>\n",
       "      <th>Date</th>\n",
       "      <th>itemRevenue</th>\n",
       "      <th>itemQuantity</th>\n",
       "      <th>buyToDetailRate</th>\n",
       "      <th>productAddsToCart</th>\n",
       "      <th>cartToDetailRate</th>\n",
       "      <th>uniquePurchases</th>\n",
       "      <th>quantityAddedToCart</th>\n",
       "      <th>revenuePerItem</th>\n",
       "      <th>productRevenuePerPurchase</th>\n",
       "      <th>itemsPerPurchase</th>\n",
       "      <th>productDetailViews</th>\n",
       "      <th>sessions</th>\n",
       "      <th>bounceRate</th>\n",
       "      <th>pageViews</th>\n",
       "      <th>pageviewsPerSession</th>\n",
       "      <th>sessionDuration</th>\n",
       "      <th>users</th>\n",
       "      <th>newUsers</th>\n",
       "    </tr>\n",
       "  </thead>\n",
       "  <tbody>\n",
       "    <tr>\n",
       "      <th>0</th>\n",
       "      <td>Men's  Plus Black Sandal</td>\n",
       "      <td>2021-06-07</td>\n",
       "      <td>749.0</td>\n",
       "      <td>1</td>\n",
       "      <td>0.584771</td>\n",
       "      <td>0</td>\n",
       "      <td>0.550132</td>\n",
       "      <td>1</td>\n",
       "      <td>0</td>\n",
       "      <td>749.0</td>\n",
       "      <td>749.0</td>\n",
       "      <td>1</td>\n",
       "      <td>0</td>\n",
       "      <td>10</td>\n",
       "      <td>0.532958</td>\n",
       "      <td>100</td>\n",
       "      <td>0</td>\n",
       "      <td>120</td>\n",
       "      <td>1</td>\n",
       "      <td>0</td>\n",
       "    </tr>\n",
       "    <tr>\n",
       "      <th>1</th>\n",
       "      <td>Men's Brown  Sandals</td>\n",
       "      <td>2021-06-07</td>\n",
       "      <td>539.0</td>\n",
       "      <td>1</td>\n",
       "      <td>0.102999</td>\n",
       "      <td>1</td>\n",
       "      <td>0.411237</td>\n",
       "      <td>1</td>\n",
       "      <td>1</td>\n",
       "      <td>539.0</td>\n",
       "      <td>539.0</td>\n",
       "      <td>1</td>\n",
       "      <td>0</td>\n",
       "      <td>10</td>\n",
       "      <td>0.707097</td>\n",
       "      <td>100</td>\n",
       "      <td>0</td>\n",
       "      <td>227</td>\n",
       "      <td>1</td>\n",
       "      <td>0</td>\n",
       "    </tr>\n",
       "    <tr>\n",
       "      <th>2</th>\n",
       "      <td>Men's Blue  Sandals</td>\n",
       "      <td>2021-06-07</td>\n",
       "      <td>499.0</td>\n",
       "      <td>1</td>\n",
       "      <td>0.384049</td>\n",
       "      <td>2</td>\n",
       "      <td>0.851673</td>\n",
       "      <td>1</td>\n",
       "      <td>2</td>\n",
       "      <td>499.0</td>\n",
       "      <td>499.0</td>\n",
       "      <td>1</td>\n",
       "      <td>0</td>\n",
       "      <td>10</td>\n",
       "      <td>0.879106</td>\n",
       "      <td>100</td>\n",
       "      <td>0</td>\n",
       "      <td>972</td>\n",
       "      <td>1</td>\n",
       "      <td>0</td>\n",
       "    </tr>\n",
       "    <tr>\n",
       "      <th>3</th>\n",
       "      <td>Men's   Tan Formal Shoes</td>\n",
       "      <td>2021-06-07</td>\n",
       "      <td>499.0</td>\n",
       "      <td>1</td>\n",
       "      <td>0.663615</td>\n",
       "      <td>3</td>\n",
       "      <td>0.252067</td>\n",
       "      <td>1</td>\n",
       "      <td>3</td>\n",
       "      <td>499.0</td>\n",
       "      <td>499.0</td>\n",
       "      <td>1</td>\n",
       "      <td>0</td>\n",
       "      <td>10</td>\n",
       "      <td>0.879087</td>\n",
       "      <td>100</td>\n",
       "      <td>0</td>\n",
       "      <td>470</td>\n",
       "      <td>1</td>\n",
       "      <td>0</td>\n",
       "    </tr>\n",
       "    <tr>\n",
       "      <th>4</th>\n",
       "      <td>Women's  Black Flip-Flops</td>\n",
       "      <td>2021-06-07</td>\n",
       "      <td>658.0</td>\n",
       "      <td>2</td>\n",
       "      <td>0.659111</td>\n",
       "      <td>1</td>\n",
       "      <td>0.924743</td>\n",
       "      <td>2</td>\n",
       "      <td>1</td>\n",
       "      <td>329.0</td>\n",
       "      <td>329.0</td>\n",
       "      <td>1</td>\n",
       "      <td>0</td>\n",
       "      <td>10</td>\n",
       "      <td>0.368253</td>\n",
       "      <td>100</td>\n",
       "      <td>0</td>\n",
       "      <td>376</td>\n",
       "      <td>1</td>\n",
       "      <td>1</td>\n",
       "    </tr>\n",
       "  </tbody>\n",
       "</table>\n",
       "</div>"
      ],
      "text/plain": [
       "                Product_Name       Date  itemRevenue  itemQuantity  \\\n",
       "0   Men's  Plus Black Sandal 2021-06-07        749.0             1   \n",
       "1       Men's Brown  Sandals 2021-06-07        539.0             1   \n",
       "2        Men's Blue  Sandals 2021-06-07        499.0             1   \n",
       "3   Men's   Tan Formal Shoes 2021-06-07        499.0             1   \n",
       "4  Women's  Black Flip-Flops 2021-06-07        658.0             2   \n",
       "\n",
       "   buyToDetailRate  productAddsToCart  cartToDetailRate  uniquePurchases  \\\n",
       "0         0.584771                  0          0.550132                1   \n",
       "1         0.102999                  1          0.411237                1   \n",
       "2         0.384049                  2          0.851673                1   \n",
       "3         0.663615                  3          0.252067                1   \n",
       "4         0.659111                  1          0.924743                2   \n",
       "\n",
       "   quantityAddedToCart  revenuePerItem  productRevenuePerPurchase  \\\n",
       "0                    0           749.0                      749.0   \n",
       "1                    1           539.0                      539.0   \n",
       "2                    2           499.0                      499.0   \n",
       "3                    3           499.0                      499.0   \n",
       "4                    1           329.0                      329.0   \n",
       "\n",
       "   itemsPerPurchase  productDetailViews  sessions  bounceRate  pageViews  \\\n",
       "0                 1                   0        10    0.532958        100   \n",
       "1                 1                   0        10    0.707097        100   \n",
       "2                 1                   0        10    0.879106        100   \n",
       "3                 1                   0        10    0.879087        100   \n",
       "4                 1                   0        10    0.368253        100   \n",
       "\n",
       "   pageviewsPerSession  sessionDuration  users  newUsers  \n",
       "0                    0              120      1         0  \n",
       "1                    0              227      1         0  \n",
       "2                    0              972      1         0  \n",
       "3                    0              470      1         0  \n",
       "4                    0              376      1         1  "
      ]
     },
     "execution_count": 8,
     "metadata": {},
     "output_type": "execute_result"
    }
   ],
   "source": [
    "#checking if the column was dropped\n",
    "Sales_data_copy.head()"
   ]
  },
  {
   "cell_type": "markdown",
   "id": "a07af5ca",
   "metadata": {},
   "source": [
    "#### Checking for missing values in the dataset"
   ]
  },
  {
   "cell_type": "code",
   "execution_count": 9,
   "id": "d0fcc551",
   "metadata": {},
   "outputs": [
    {
     "data": {
      "text/plain": [
       "Product_Name                    0\n",
       "Date                            0\n",
       "itemRevenue                  2044\n",
       "itemQuantity                    0\n",
       "buyToDetailRate                 0\n",
       "productAddsToCart               0\n",
       "cartToDetailRate                0\n",
       "uniquePurchases                 0\n",
       "quantityAddedToCart             0\n",
       "revenuePerItem                  0\n",
       "productRevenuePerPurchase       0\n",
       "itemsPerPurchase                0\n",
       "productDetailViews              0\n",
       "sessions                        0\n",
       "bounceRate                      0\n",
       "pageViews                       0\n",
       "pageviewsPerSession             0\n",
       "sessionDuration                 0\n",
       "users                           0\n",
       "newUsers                        0\n",
       "dtype: int64"
      ]
     },
     "execution_count": 9,
     "metadata": {},
     "output_type": "execute_result"
    }
   ],
   "source": [
    "Sales_data_copy.isnull().sum()"
   ]
  },
  {
   "cell_type": "code",
   "execution_count": 10,
   "id": "848a314d",
   "metadata": {},
   "outputs": [],
   "source": [
    "#Item Revenue column is of type float and it has 2044 NaN \n",
    "#assuming these items were not sold hence no revenue was collected, impute them with 0 \n",
    "Sales_data_copy['itemRevenue']=Sales_data_copy['itemRevenue'].replace(np.NaN,0)"
   ]
  },
  {
   "cell_type": "code",
   "execution_count": 11,
   "id": "9cbf4cce",
   "metadata": {},
   "outputs": [
    {
     "data": {
      "text/plain": [
       "0"
      ]
     },
     "execution_count": 11,
     "metadata": {},
     "output_type": "execute_result"
    }
   ],
   "source": [
    "#checking if the column still has null values\n",
    "Sales_data_copy['itemRevenue'].isnull().sum()"
   ]
  },
  {
   "cell_type": "code",
   "execution_count": 12,
   "id": "8fe6a383",
   "metadata": {},
   "outputs": [
    {
     "data": {
      "text/plain": [
       "2165    0.0\n",
       "2166    0.0\n",
       "2167    0.0\n",
       "2168    0.0\n",
       "2169    0.0\n",
       "Name: itemRevenue, dtype: float64"
      ]
     },
     "execution_count": 12,
     "metadata": {},
     "output_type": "execute_result"
    }
   ],
   "source": [
    "#the last 5 rows had NaN values which are now replaced by 0\n",
    "Sales_data_copy['itemRevenue'].tail()"
   ]
  },
  {
   "cell_type": "markdown",
   "id": "2515fa85",
   "metadata": {},
   "source": [
    "#### Adding columns like Category based on demographic, product categories"
   ]
  },
  {
   "cell_type": "code",
   "execution_count": 13,
   "id": "40454e33",
   "metadata": {},
   "outputs": [],
   "source": [
    "#keeping the names of columns aside to use throughout\n",
    "column_names=Sales_data_copy.columns"
   ]
  },
  {
   "cell_type": "code",
   "execution_count": 14,
   "id": "95db501d",
   "metadata": {},
   "outputs": [
    {
     "data": {
      "text/plain": [
       "Index(['Product_Name', 'Date', 'itemRevenue', 'itemQuantity',\n",
       "       'buyToDetailRate', 'productAddsToCart', 'cartToDetailRate',\n",
       "       'uniquePurchases', 'quantityAddedToCart', 'revenuePerItem',\n",
       "       'productRevenuePerPurchase', 'itemsPerPurchase', 'productDetailViews',\n",
       "       'sessions', 'bounceRate', 'pageViews', 'pageviewsPerSession',\n",
       "       'sessionDuration', 'users', 'newUsers'],\n",
       "      dtype='object')"
      ]
     },
     "execution_count": 14,
     "metadata": {},
     "output_type": "execute_result"
    }
   ],
   "source": [
    "column_names"
   ]
  },
  {
   "cell_type": "code",
   "execution_count": 15,
   "id": "51ad1560",
   "metadata": {},
   "outputs": [
    {
     "data": {
      "text/plain": [
       "array([\"Men's  Plus Black Sandal\", \"Men's Brown  Sandals\",\n",
       "       \"Men's Blue  Sandals\", \"Men's   Tan Formal Shoes\",\n",
       "       \"Women's  Black Flip-Flops\", \"Men's Blue   Flip Flops\",\n",
       "       'Kids Purple P-Toes Sandals', \"Women's P Toes Blue Sandals\",\n",
       "       'Boys Tan P-Toes Casual Sandals', 'Kids Black P-Toes Sandals',\n",
       "       \"Men's Brown  Flip-Flops\", \"Women's  Black Sandals\",\n",
       "       \"Men's Black  Flip-Flops\", 'Kids White School Shoes',\n",
       "       'Kids P-Toes Blue Casual Shoes', \"Women's Red  Flip-Flops\",\n",
       "       \"Women's Green   Flip Flops\", \"Men's Casual Blue Flip-Flops\",\n",
       "       \"Women's Brown  Sandals\", \"Women's Pink Dolly Flip-Flops\",\n",
       "       \"Women's  Pink Casual Flip Flops\", \"Men's  Green Flip Flops\",\n",
       "       'Kids P-Toes Yellow Sandal', \"Men's Casual Red Flip-Flops\",\n",
       "       \"Men's Green Walkie Flip-Flops\",\n",
       "       'Kids Beige Rubber Based Flip-Flops', 'Kids Red P-Toes Sandals',\n",
       "       'Kids Pink P-Toes Sandal', \"Women's   Maroon  Sandal\",\n",
       "       \"Women's  Red Casual Slippers\",\n",
       "       'Kids Pink P-Toes Casual Casual Shoes',\n",
       "       \"Men's SkyBlue  Casual Flip flops\", \"Women's Green  Flip-Flops\",\n",
       "       \"Men's Beige Rubber Based Flip-Flops\",\n",
       "       \"Men's  Navy Blue Casual Flip Flops\",\n",
       "       \"Men's Blue-Yellow  Flip Flops\", \"Men's   Red Flip Flops\",\n",
       "       \"Men's Yellow   Flip Flops\", \"Men's   Grey  Flip Flops\",\n",
       "       \"Men's  Beige Flip-Flops\", \"Women's Pink Rubber Based Flip-Flops\",\n",
       "       \"Women's Sky-Blue Rubber Based Flip-Flops\",\n",
       "       'Kids Blue Rubber Based Flip Flops',\n",
       "       'Kids Red Rubber Based Flip-Flops',\n",
       "       \"Women's Pink Rubber Based Flip Flops\",\n",
       "       \"Women's Violet Rubber Based Flip Flops\",\n",
       "       \"Women's Blue Dolly Flip-Flops\", \"Men's Blue-Green  Flip Flops\",\n",
       "       \"Men's   Blue Flip Flops\", \"Men's Black  Formal Belt\",\n",
       "       \"Men's Brown  Formal Belt\", 'Kids Pink Rubber Based Flip-Flops',\n",
       "       'Women Cherry Zip Handbags', 'Women Cream Zip Handbags',\n",
       "       'Women Beige Zip Handbags', 'Women Tan Zip Handbags',\n",
       "       'Women Black Zip Handbags', 'Women Blush Pink ZIP Handbags',\n",
       "       'Women Brown Zip Handbags', 'Women Cream ZIP Handbags',\n",
       "       'Women Blue Zip Handbags', 'Women Pink Zip Handbags',\n",
       "       'Women Beige Hook & Loop Sling Bags',\n",
       "       'Women Tan Hook & Loop Sling Bags', \"Women's Blue  Flip-Flops\",\n",
       "       'Kids Black P-Toes Flip-Flops', \"Women's  Black Sandal\",\n",
       "       \"Men's Black & Red  Casual Flip flops\",\n",
       "       \"Men's Black & Grey  Flip-Flops\", \"Men's  Black-Yellow Flip-Flops\",\n",
       "       \"Men's Black & Red  Flip-Flops\", \"Women's  Navy Blue Flip Flops\",\n",
       "       \"Women's Pink  Flip-Flops\", \"Women's  Black Flip Flops\",\n",
       "       \"Men's  Blue-Orange Flip Flops\",\n",
       "       \"Men's Navy Blue & Orange  Flip-Flops\", \"Men's  Yellow Flip Flops\",\n",
       "       \"Men's Brown  Semi Formal\",\n",
       "       \"Men's  Turquoise-Navy Blue Casual Flip Flops\",\n",
       "       \"Men's Brown Walkie Flip-Flops\", \"Women's  Brown Flip Flops\",\n",
       "       \"Women's Black  Flip Flops\", \"Men's Red   Flip Flops\",\n",
       "       \"Men's  Red Flip-Flops\", \"Men's  Brown Flip Flops\",\n",
       "       \"Men's   Black Sandal\", \"Men's   Brown Sandal\",\n",
       "       \"Men's  Blue Flip Flops\", \"Men's  Red Sports Shoes\",\n",
       "       \"Men's  Blue Sandal\", \"Men's Grey  Sandals\",\n",
       "       \"Men's Tan  Formal Shoes\", \"Men's Black   Shoes\",\n",
       "       \"Men's   Brown Formal\", \"Men's Black & Red  Sports Shoes\",\n",
       "       \"Men's Black-Red  Shoes\", \"Men's Grey  Casual Shoes\",\n",
       "       \"Men's  Sea Green Casual Shoes\", \"Women's  Navy-Pink Casual Shoes\",\n",
       "       \"Men's  Grey-Orange Sandal\", 'Kids White Rubber Based Flip-Flops',\n",
       "       'Boys Sandwich Cushion Casual Flip flops',\n",
       "       'Kids Green Rubber Based Flip Flops',\n",
       "       'Kids Purple Rubber Based Flip Flops',\n",
       "       'Kids Sky-Blue Rubber Based Flip-Flops',\n",
       "       'Kids Pink Rubber Based Flip Flops',\n",
       "       \"Men's Brown Rubber Based Flip-Flops\",\n",
       "       \"Women's Blue Acusole Casual Flip flops\",\n",
       "       \"Men's Grey & Black Sonar Flip-Flops\",\n",
       "       \"Men's Full Blue  Flip Flops\",\n",
       "       'Kids Green Rubber Based Flip-Flops', \"Men's Red  Flip-Flops\",\n",
       "       \"Men's Yellow  Flip-Flops\", \"Men's Blue Rubber Based Flip-Flops\",\n",
       "       \"Women's Blue   Flip Flops\", \"Women's  Purple Flip-Flops\",\n",
       "       \"Women's Violet  Flip-Flops\", \"Men's Blue  Flip-Flops\",\n",
       "       \"Men's Grey  Flip-Flops\", \"Men's Yellow & Blue  Casual Flip flops\",\n",
       "       \"Men's Blue-Sky Blue  Flip Flops\",\n",
       "       \"Men's Orange  Casuals Flip Flop\", \"Men's Green  Flip Flops\",\n",
       "       \"Men's Red  Flip Flops\", \"Men's Black  Flip Flops\",\n",
       "       \"Men's Blue  Flip Flops\", \"Women's Green  Flip Flops\",\n",
       "       \"Men's Green   Flip Flops\", 'Kids P-Toes Blue Flip-Flops',\n",
       "       'Kids P-Toes Green Flip-Flops',\n",
       "       \"Women's  Orange Casual Flip Flops\", \"Men's   Orange Flip Flops\",\n",
       "       \"Men's   Green Flip Flops\", \"Men's   Grey Flip Flops\",\n",
       "       \"Men's  Black Casual Shoes\", ' Men Black-Red Sport Shoes',\n",
       "       \"Men's  Black Sandals\", \"Women's Navy Blue-Pink Flip-Flops\",\n",
       "       \"Men's Black and White Flip Flops\",\n",
       "       \"Women's Multi Color Casual Shoes\", \"Women's Brown Casual Shoes\",\n",
       "       \"Women's Black Casual Shoes\", \"Women's Tan Casual Shoes\",\n",
       "       \"Women's Violet Meriva Casual Shoes\", \"Boys' P-Toes Tan Sandal\",\n",
       "       'Kids P-Toes Violet Casual Slippers',\n",
       "       \"Women's P Toes Pink Sandals\", 'Kids P-Toes Blue Sandal',\n",
       "       \"Women's Pink  Sandals\", \"Men's  Black Flip Flops\",\n",
       "       \"Men's  Grey Flip Flops\", \"Men's Formal Brown Flip-Flops\",\n",
       "       \"Men's  Dark Brown Sandal\", \"Men's Beige  Flip-Flops\",\n",
       "       \"Men's Green  Flip-Flops\", \"Men's Tan  Flip-Flops\",\n",
       "       \"Men's  White Sandal\", \"Men's Formal Tan Flip-Flops\",\n",
       "       \"Women's  Yellow Sandal\", \"Women's Blue  Sandals\",\n",
       "       \"Women's  Red Flip-Flops\", \"Women's Brown  Flip-Flops\",\n",
       "       \"Women's Black  Sandals\", \"Women's  Brown Sandal\",\n",
       "       \"Women's Black  Flip-Flops\", \"Women's  Pink Sandal\",\n",
       "       \"Women's  Peach Slippers\", \"Women's Beige  Sandal\",\n",
       "       \"Women's  Cherry Sandal\", \"Women's  Maroon Sandal\",\n",
       "       \"Women's  Black-Red Flip-Flops\", \"Women's Black  Plus Flip-Flops\",\n",
       "       \"Women's Red  Plus Sandals\", \"Women's  Tan Slippers\",\n",
       "       \"Women's  Maroon Flip Flops\",\n",
       "       \"Women's  Golden Ethnic Sandal(Chappal)\", \"Women's Tan  Sandals\",\n",
       "       \"Women's Grey  Sandals\", 'Girls P-Toes Pink Formal Slippers',\n",
       "       \"Women's  Red Sandal\", \"Women's Multi Color  Flip-Flops\",\n",
       "       \"Women's Purple  Flip-Flops\", \"Women's  Pink Flip Flops\",\n",
       "       \"Women's  Pink-White Sandal\", \"Women's  Beige Flip-Flops\",\n",
       "       \"Men's Slickers Sky Blue Sandal\", \"Men's Brown Slickers Sandals\",\n",
       "       'Kids Brown P-Toes Sandals', \"Men's Slickers  Black Formal Sandal\",\n",
       "       'Boys Brown P-Toes Casual Sandals', \"Men's   Tan Sandal\",\n",
       "       'Kids School Shoes White Formal', 'Kids Green P-Toes Sandals',\n",
       "       \"Kids' Sea Green P-Toes Casual Shoes\",\n",
       "       \"Kids' Pink P-Toes Casual Shoes\", 'Kids P-Toes Pink Casual Shoes',\n",
       "       \"Men's   Black Flip-Flops\", \"Women's  Plus Beige Casual Sandal\",\n",
       "       \"Women's  Plus Black Casual Sandal\",\n",
       "       \"Women's  Plus Gunmetal Casual Sandal\",\n",
       "       \"Women's  Plus Red-Tan Casual Sandal\",\n",
       "       \"Women's  Plus Red Casual Sandal\",\n",
       "       \"Women's  Plus Tan-Black Casual Sandal\",\n",
       "       \"Women's  Plus Tan-Blue Casual Sandal\",\n",
       "       \"Women's  Plus Cream Sandal\", \"Women's Black  Plus  Sandal\",\n",
       "       \"Women's  Plus Blue Casual Slippers\", \"Women's  Plus Brown Sandal\",\n",
       "       \"Women's Blue  Plus  Sandal\", \"Women's  Plus Red Sandal\",\n",
       "       \"Men's  Grey-Orange Casual Shoes\", \"Men's   White Casual Shoes\",\n",
       "       \"Men's   Tan Casual shoes\", \"Men's  Plus Tan Sandal\",\n",
       "       \"Men's   Black Formal Shoes\", \"Men's  Grey Slider\",\n",
       "       'Kids Blue School Shoes', 'Kids Brown School Shoes',\n",
       "       'Kids Black School Shoes', 'Kids  White Casual shoes',\n",
       "       \"Women's Yellow  Flip-Flops\", \"Women's Black P-Toes Flip-Flops\",\n",
       "       \"Men's Black-Blue   Flip Flops\", \"Men's  Black Casual Slippers\",\n",
       "       \"Men's  Brown Sandal\", \"Women's  Black-Blue Flip-Flops\",\n",
       "       \"Men's  Black Sandal\", \"Men's  Black Red Flip Flops\",\n",
       "       \"Men's Black & Red Combo Flip-Flops\",\n",
       "       \"Men's Black & Beige  Flip-Flops\", \"Men's Tan   Slippers\",\n",
       "       \"Men's  Black-Red Flip Flops\", \"Men's Black   Slippers\",\n",
       "       'Boys P-Toes Navy Blue - Yellow Casual Slippers',\n",
       "       \"Men's Blue-Yellow    Flip Flops\", \"Women's Sky-Blue  Flip-Flops\",\n",
       "       \"Men's  Coffee Brown Flip-Flops\", \"Men's Black  Semi Formal\",\n",
       "       \"Men's  Tan-Brown Flip-Flops\",\n",
       "       \"Men's  Turquoise - Navy Blue Casual Flip Flops\",\n",
       "       \"Men's  Grey - Navy Blue Casual Flip Flops\",\n",
       "       \"Men's Grey Walkie Flip-Flops\", \"Men's Black Arcade Sandals\",\n",
       "       \"Men's  Yellow Sandal\", \"Men's Brown Walkie Semi Formal\",\n",
       "       'Boys P Toes Grey Sandals', \"Women's Black & Red  Flip-Flops\",\n",
       "       \"Women's Brown  Casual Flip flops\", \"Women's Red  Flip Flops\",\n",
       "       \"Women's  Blue Flip Flops\", \"Women's  Sea Green Flip-Flops\",\n",
       "       \"Men's  Black-Red Sandal\", \"Men's Green  Sandals\",\n",
       "       \"Men's Black  Sandals\", \"Men's  Mustard-Orange Sandal\",\n",
       "       \"Men's  Grey Sandals\", \"Men's  Red Sandals\",\n",
       "       \"Men's Green  Casual Flip flops\", \"Men's Black-Green   Flip Flops\",\n",
       "       \"Men's Brown   Flip Flops\", \"Men's  Tan Flip Flops\",\n",
       "       \"Men's  Black Flip-Flops\", \"Men's  Brown Flip-Flops\",\n",
       "       \"Women's Orange & Grey  Plus Sandals\",\n",
       "       \"Women's Red & Navy Blue  Plus Sandals\",\n",
       "       'Kids P-Toes Black-Blue Casual Shoes',\n",
       "       'Kids P-Toes Black-Pink Casual Shoes', \"Men's  Blue Casual shoes\",\n",
       "       \"Men's  Grey Casual shoes\", \"Men's  Sea Green Sports Shoes\",\n",
       "       \"Men's  Grey Casual Shoes\", 'Kids P-Toes Grey Casual shoes',\n",
       "       'Kids P-Toes Black Casual shoes',\n",
       "       'Boys P-Toes Black - Purple Casual Shoes',\n",
       "       'Boys P-Toes Black - Red Casual Shoes',\n",
       "       'Kids P-Toes Black Casual Shoes', 'Kids P-Toes Red Casual Shoes',\n",
       "       \"Women's  Pink Casual Shoes\", \"Women's  Sky Blue Casual Shoes\",\n",
       "       \"Women's  Pink - Blue Casual Shoes\", \"Women's  Black-Blue Sandal\",\n",
       "       \"Women's  Black-Pink Sandal\", \"Men's  Green Sandal\",\n",
       "       \"Men's Red  Sandals\", \"Men's Yellow  Sandals\",\n",
       "       \"Men's Blue & Grey  Sandals\", 'Boys P-Toes Beige Sports Sandal',\n",
       "       'Boys P-Toes Black Sports Sandal',\n",
       "       'Boys P-Toes MAROON Sports Sandal', \"Men's Beige  Sandals\",\n",
       "       \"Men's Casual Maroon Sandal\", \"Men's  Black-Blue Sports Sandal\",\n",
       "       \"Men's  Black-Orange Sports Sandal\", \"Men's  Black Blue Sandal\",\n",
       "       \"Men's  Black Ornage Sandal\", \"Men's Casual Black Sandal\",\n",
       "       \"Men's Grey  Sports Sandals\", \"Men's  Black-Orange Sandal\",\n",
       "       \"Men's  Orange Sandal\", \"Men's  Sea Green Sandal\",\n",
       "       \"Men's  Olive Green Sandal\", \"Men's Grey & Red  Sandals\",\n",
       "       \"Men's Red  Sports Sandals\", \"Men's Grey & Blue  Sandals\",\n",
       "       \"Men's Black & Red  Sandals\", \"Men's  Moss-Orange Sandal\",\n",
       "       'Kids P-Toes Black-Orange Sandal',\n",
       "       'Kids Grey & Blue P-Toes Sandals',\n",
       "       \"Men's Black & Red  Sports Sandals\", \" Men's  Black Sandals\",\n",
       "       \"Women's   Maroon  Flip Flops\", \"Men's   Blue  Flip Flops\",\n",
       "       \"Men's   Brown  Flip Flops\",\n",
       "       'Kids Sea Green P-Toes Casual Casual Shoes'], dtype=object)"
      ]
     },
     "execution_count": 15,
     "metadata": {},
     "output_type": "execute_result"
    }
   ],
   "source": [
    "Sales_data_copy['Product_Name'].unique()"
   ]
  },
  {
   "cell_type": "code",
   "execution_count": 16,
   "id": "256cd9e6",
   "metadata": {},
   "outputs": [
    {
     "data": {
      "text/plain": [
       "'\\nfrom looking at unique values in Product Name products can be classified in 4 categories\\n\"Men\\'s\",\"Women\\'s\", \"Kids\", \"Boys\"\\nCan add a column indicating the category of the product against each row\\n'"
      ]
     },
     "execution_count": 16,
     "metadata": {},
     "output_type": "execute_result"
    }
   ],
   "source": [
    "'''\n",
    "from looking at unique values in Product Name products can be classified in 4 categories\n",
    "\"Men's\",\"Women's\", \"Kids\", \"Boys\"\n",
    "Can add a column indicating the category of the product against each row\n",
    "'''"
   ]
  },
  {
   "cell_type": "code",
   "execution_count": 17,
   "id": "ae83bb65",
   "metadata": {
    "scrolled": true
   },
   "outputs": [
    {
     "data": {
      "text/html": [
       "<div>\n",
       "<style scoped>\n",
       "    .dataframe tbody tr th:only-of-type {\n",
       "        vertical-align: middle;\n",
       "    }\n",
       "\n",
       "    .dataframe tbody tr th {\n",
       "        vertical-align: top;\n",
       "    }\n",
       "\n",
       "    .dataframe thead th {\n",
       "        text-align: right;\n",
       "    }\n",
       "</style>\n",
       "<table border=\"1\" class=\"dataframe\">\n",
       "  <thead>\n",
       "    <tr style=\"text-align: right;\">\n",
       "      <th></th>\n",
       "      <th>Product_Name</th>\n",
       "      <th>Date</th>\n",
       "      <th>itemRevenue</th>\n",
       "      <th>itemQuantity</th>\n",
       "      <th>buyToDetailRate</th>\n",
       "      <th>productAddsToCart</th>\n",
       "      <th>cartToDetailRate</th>\n",
       "      <th>uniquePurchases</th>\n",
       "      <th>quantityAddedToCart</th>\n",
       "      <th>revenuePerItem</th>\n",
       "      <th>productRevenuePerPurchase</th>\n",
       "      <th>itemsPerPurchase</th>\n",
       "      <th>productDetailViews</th>\n",
       "      <th>sessions</th>\n",
       "      <th>bounceRate</th>\n",
       "      <th>pageViews</th>\n",
       "      <th>pageviewsPerSession</th>\n",
       "      <th>sessionDuration</th>\n",
       "      <th>users</th>\n",
       "      <th>newUsers</th>\n",
       "    </tr>\n",
       "  </thead>\n",
       "  <tbody>\n",
       "    <tr>\n",
       "      <th>0</th>\n",
       "      <td>Men's  Plus Black Sandal</td>\n",
       "      <td>2021-06-07</td>\n",
       "      <td>749.0</td>\n",
       "      <td>1</td>\n",
       "      <td>0.584771</td>\n",
       "      <td>0</td>\n",
       "      <td>0.550132</td>\n",
       "      <td>1</td>\n",
       "      <td>0</td>\n",
       "      <td>749.0</td>\n",
       "      <td>749.0</td>\n",
       "      <td>1</td>\n",
       "      <td>0</td>\n",
       "      <td>10</td>\n",
       "      <td>0.532958</td>\n",
       "      <td>100</td>\n",
       "      <td>0</td>\n",
       "      <td>120</td>\n",
       "      <td>1</td>\n",
       "      <td>0</td>\n",
       "    </tr>\n",
       "    <tr>\n",
       "      <th>1</th>\n",
       "      <td>Men's Brown  Sandals</td>\n",
       "      <td>2021-06-07</td>\n",
       "      <td>539.0</td>\n",
       "      <td>1</td>\n",
       "      <td>0.102999</td>\n",
       "      <td>1</td>\n",
       "      <td>0.411237</td>\n",
       "      <td>1</td>\n",
       "      <td>1</td>\n",
       "      <td>539.0</td>\n",
       "      <td>539.0</td>\n",
       "      <td>1</td>\n",
       "      <td>0</td>\n",
       "      <td>10</td>\n",
       "      <td>0.707097</td>\n",
       "      <td>100</td>\n",
       "      <td>0</td>\n",
       "      <td>227</td>\n",
       "      <td>1</td>\n",
       "      <td>0</td>\n",
       "    </tr>\n",
       "    <tr>\n",
       "      <th>2</th>\n",
       "      <td>Men's Blue  Sandals</td>\n",
       "      <td>2021-06-07</td>\n",
       "      <td>499.0</td>\n",
       "      <td>1</td>\n",
       "      <td>0.384049</td>\n",
       "      <td>2</td>\n",
       "      <td>0.851673</td>\n",
       "      <td>1</td>\n",
       "      <td>2</td>\n",
       "      <td>499.0</td>\n",
       "      <td>499.0</td>\n",
       "      <td>1</td>\n",
       "      <td>0</td>\n",
       "      <td>10</td>\n",
       "      <td>0.879106</td>\n",
       "      <td>100</td>\n",
       "      <td>0</td>\n",
       "      <td>972</td>\n",
       "      <td>1</td>\n",
       "      <td>0</td>\n",
       "    </tr>\n",
       "    <tr>\n",
       "      <th>3</th>\n",
       "      <td>Men's   Tan Formal Shoes</td>\n",
       "      <td>2021-06-07</td>\n",
       "      <td>499.0</td>\n",
       "      <td>1</td>\n",
       "      <td>0.663615</td>\n",
       "      <td>3</td>\n",
       "      <td>0.252067</td>\n",
       "      <td>1</td>\n",
       "      <td>3</td>\n",
       "      <td>499.0</td>\n",
       "      <td>499.0</td>\n",
       "      <td>1</td>\n",
       "      <td>0</td>\n",
       "      <td>10</td>\n",
       "      <td>0.879087</td>\n",
       "      <td>100</td>\n",
       "      <td>0</td>\n",
       "      <td>470</td>\n",
       "      <td>1</td>\n",
       "      <td>0</td>\n",
       "    </tr>\n",
       "    <tr>\n",
       "      <th>4</th>\n",
       "      <td>Women's  Black Flip-Flops</td>\n",
       "      <td>2021-06-07</td>\n",
       "      <td>658.0</td>\n",
       "      <td>2</td>\n",
       "      <td>0.659111</td>\n",
       "      <td>1</td>\n",
       "      <td>0.924743</td>\n",
       "      <td>2</td>\n",
       "      <td>1</td>\n",
       "      <td>329.0</td>\n",
       "      <td>329.0</td>\n",
       "      <td>1</td>\n",
       "      <td>0</td>\n",
       "      <td>10</td>\n",
       "      <td>0.368253</td>\n",
       "      <td>100</td>\n",
       "      <td>0</td>\n",
       "      <td>376</td>\n",
       "      <td>1</td>\n",
       "      <td>1</td>\n",
       "    </tr>\n",
       "  </tbody>\n",
       "</table>\n",
       "</div>"
      ],
      "text/plain": [
       "                Product_Name       Date  itemRevenue  itemQuantity  \\\n",
       "0   Men's  Plus Black Sandal 2021-06-07        749.0             1   \n",
       "1       Men's Brown  Sandals 2021-06-07        539.0             1   \n",
       "2        Men's Blue  Sandals 2021-06-07        499.0             1   \n",
       "3   Men's   Tan Formal Shoes 2021-06-07        499.0             1   \n",
       "4  Women's  Black Flip-Flops 2021-06-07        658.0             2   \n",
       "\n",
       "   buyToDetailRate  productAddsToCart  cartToDetailRate  uniquePurchases  \\\n",
       "0         0.584771                  0          0.550132                1   \n",
       "1         0.102999                  1          0.411237                1   \n",
       "2         0.384049                  2          0.851673                1   \n",
       "3         0.663615                  3          0.252067                1   \n",
       "4         0.659111                  1          0.924743                2   \n",
       "\n",
       "   quantityAddedToCart  revenuePerItem  productRevenuePerPurchase  \\\n",
       "0                    0           749.0                      749.0   \n",
       "1                    1           539.0                      539.0   \n",
       "2                    2           499.0                      499.0   \n",
       "3                    3           499.0                      499.0   \n",
       "4                    1           329.0                      329.0   \n",
       "\n",
       "   itemsPerPurchase  productDetailViews  sessions  bounceRate  pageViews  \\\n",
       "0                 1                   0        10    0.532958        100   \n",
       "1                 1                   0        10    0.707097        100   \n",
       "2                 1                   0        10    0.879106        100   \n",
       "3                 1                   0        10    0.879087        100   \n",
       "4                 1                   0        10    0.368253        100   \n",
       "\n",
       "   pageviewsPerSession  sessionDuration  users  newUsers  \n",
       "0                    0              120      1         0  \n",
       "1                    0              227      1         0  \n",
       "2                    0              972      1         0  \n",
       "3                    0              470      1         0  \n",
       "4                    0              376      1         1  "
      ]
     },
     "execution_count": 17,
     "metadata": {},
     "output_type": "execute_result"
    }
   ],
   "source": [
    "Sales_data_copy.head()"
   ]
  },
  {
   "cell_type": "code",
   "execution_count": 18,
   "id": "bda320b5",
   "metadata": {},
   "outputs": [],
   "source": [
    "#splitting the Product Names so they disticnt categories can be sliced\n",
    "Sales_data_copy['Category_split']=[i.split() for i in Sales_data_copy['Product_Name']]"
   ]
  },
  {
   "cell_type": "code",
   "execution_count": 19,
   "id": "f9e32070",
   "metadata": {},
   "outputs": [
    {
     "data": {
      "text/plain": [
       "0    [Men's, Plus, Black, Sandal]\n",
       "1         [Men's, Brown, Sandals]\n",
       "2          [Men's, Blue, Sandals]\n",
       "3     [Men's, Tan, Formal, Shoes]\n",
       "4    [Women's, Black, Flip-Flops]\n",
       "Name: Category_split, dtype: object"
      ]
     },
     "execution_count": 19,
     "metadata": {},
     "output_type": "execute_result"
    }
   ],
   "source": [
    "Sales_data_copy['Category_split'].head()"
   ]
  },
  {
   "cell_type": "code",
   "execution_count": 20,
   "id": "2fd5c1e0",
   "metadata": {
    "scrolled": false
   },
   "outputs": [],
   "source": [
    "Sales_data_copy['Category']=[i[0] for i in Sales_data_copy['Category_split']]"
   ]
  },
  {
   "cell_type": "code",
   "execution_count": 21,
   "id": "907087c9",
   "metadata": {},
   "outputs": [
    {
     "data": {
      "text/plain": [
       "0      Men's\n",
       "1      Men's\n",
       "2      Men's\n",
       "3      Men's\n",
       "4    Women's\n",
       "5      Men's\n",
       "6       Kids\n",
       "7    Women's\n",
       "8       Boys\n",
       "9       Kids\n",
       "Name: Category, dtype: object"
      ]
     },
     "execution_count": 21,
     "metadata": {},
     "output_type": "execute_result"
    }
   ],
   "source": [
    "Sales_data_copy['Category'].head(10)"
   ]
  },
  {
   "cell_type": "code",
   "execution_count": 22,
   "id": "795d8677",
   "metadata": {},
   "outputs": [],
   "source": [
    "#making a product category column\n",
    "Sales_data_copy['Product_Category']=[i[-1] for i in Sales_data_copy['Category_split']]"
   ]
  },
  {
   "cell_type": "code",
   "execution_count": 23,
   "id": "bc1f3f84",
   "metadata": {},
   "outputs": [
    {
     "data": {
      "text/plain": [
       "0        Sandal\n",
       "1       Sandals\n",
       "2       Sandals\n",
       "3         Shoes\n",
       "4    Flip-Flops\n",
       "Name: Product_Category, dtype: object"
      ]
     },
     "execution_count": 23,
     "metadata": {},
     "output_type": "execute_result"
    }
   ],
   "source": [
    "Sales_data_copy['Product_Category'].head()"
   ]
  },
  {
   "cell_type": "code",
   "execution_count": 24,
   "id": "d613f980",
   "metadata": {},
   "outputs": [
    {
     "data": {
      "text/html": [
       "<div>\n",
       "<style scoped>\n",
       "    .dataframe tbody tr th:only-of-type {\n",
       "        vertical-align: middle;\n",
       "    }\n",
       "\n",
       "    .dataframe tbody tr th {\n",
       "        vertical-align: top;\n",
       "    }\n",
       "\n",
       "    .dataframe thead th {\n",
       "        text-align: right;\n",
       "    }\n",
       "</style>\n",
       "<table border=\"1\" class=\"dataframe\">\n",
       "  <thead>\n",
       "    <tr style=\"text-align: right;\">\n",
       "      <th></th>\n",
       "      <th>Category_split</th>\n",
       "      <th>Category</th>\n",
       "      <th>Product_Category</th>\n",
       "    </tr>\n",
       "  </thead>\n",
       "  <tbody>\n",
       "    <tr>\n",
       "      <th>0</th>\n",
       "      <td>[Men's, Plus, Black, Sandal]</td>\n",
       "      <td>Men's</td>\n",
       "      <td>Sandal</td>\n",
       "    </tr>\n",
       "    <tr>\n",
       "      <th>1</th>\n",
       "      <td>[Men's, Brown, Sandals]</td>\n",
       "      <td>Men's</td>\n",
       "      <td>Sandals</td>\n",
       "    </tr>\n",
       "    <tr>\n",
       "      <th>2</th>\n",
       "      <td>[Men's, Blue, Sandals]</td>\n",
       "      <td>Men's</td>\n",
       "      <td>Sandals</td>\n",
       "    </tr>\n",
       "    <tr>\n",
       "      <th>3</th>\n",
       "      <td>[Men's, Tan, Formal, Shoes]</td>\n",
       "      <td>Men's</td>\n",
       "      <td>Shoes</td>\n",
       "    </tr>\n",
       "    <tr>\n",
       "      <th>4</th>\n",
       "      <td>[Women's, Black, Flip-Flops]</td>\n",
       "      <td>Women's</td>\n",
       "      <td>Flip-Flops</td>\n",
       "    </tr>\n",
       "  </tbody>\n",
       "</table>\n",
       "</div>"
      ],
      "text/plain": [
       "                 Category_split Category Product_Category\n",
       "0  [Men's, Plus, Black, Sandal]    Men's           Sandal\n",
       "1       [Men's, Brown, Sandals]    Men's          Sandals\n",
       "2        [Men's, Blue, Sandals]    Men's          Sandals\n",
       "3   [Men's, Tan, Formal, Shoes]    Men's            Shoes\n",
       "4  [Women's, Black, Flip-Flops]  Women's       Flip-Flops"
      ]
     },
     "execution_count": 24,
     "metadata": {},
     "output_type": "execute_result"
    }
   ],
   "source": [
    "Sales_data_copy.iloc[:,-3:].head()"
   ]
  },
  {
   "cell_type": "code",
   "execution_count": 25,
   "id": "5fc84b50",
   "metadata": {},
   "outputs": [],
   "source": [
    "#saving the datset to an excel spreadsheet for visualizations in Power BI later \n",
    "file_name='Product_Data.xlsx'\n",
    "Sales_data_copy.to_excel(file_name)"
   ]
  },
  {
   "cell_type": "code",
   "execution_count": 26,
   "id": "381a556c",
   "metadata": {},
   "outputs": [
    {
     "name": "stdout",
     "output_type": "stream",
     "text": [
      "DataFrame is written to Excel File successfully.\n"
     ]
    }
   ],
   "source": [
    "print('DataFrame is written to Excel File successfully.')"
   ]
  },
  {
   "cell_type": "markdown",
   "id": "804194f1",
   "metadata": {},
   "source": [
    "## Exploratory Data Analysis"
   ]
  },
  {
   "cell_type": "markdown",
   "id": "01fd3cd4",
   "metadata": {},
   "source": [
    "### Highest revenue products"
   ]
  },
  {
   "cell_type": "code",
   "execution_count": 27,
   "id": "df130ffd",
   "metadata": {},
   "outputs": [],
   "source": [
    "#subsetting the records where itemRevenue is not 0\n",
    "Sales_positive_revenue=Sales_data_copy.loc[Sales_data_copy['itemRevenue']!=0]"
   ]
  },
  {
   "cell_type": "code",
   "execution_count": 28,
   "id": "c0950f1c",
   "metadata": {},
   "outputs": [
    {
     "data": {
      "text/plain": [
       "(126, 23)"
      ]
     },
     "execution_count": 28,
     "metadata": {},
     "output_type": "execute_result"
    }
   ],
   "source": [
    "Sales_positive_revenue.shape"
   ]
  },
  {
   "cell_type": "code",
   "execution_count": 29,
   "id": "ad54338d",
   "metadata": {},
   "outputs": [],
   "source": [
    "import matplotlib.pyplot as plt"
   ]
  },
  {
   "cell_type": "markdown",
   "id": "65fb43e0",
   "metadata": {},
   "source": [
    "##### 30 highest revenue collecting products"
   ]
  },
  {
   "cell_type": "code",
   "execution_count": 30,
   "id": "b0eb33c2",
   "metadata": {},
   "outputs": [
    {
     "data": {
      "text/html": [
       "<div>\n",
       "<style scoped>\n",
       "    .dataframe tbody tr th:only-of-type {\n",
       "        vertical-align: middle;\n",
       "    }\n",
       "\n",
       "    .dataframe tbody tr th {\n",
       "        vertical-align: top;\n",
       "    }\n",
       "\n",
       "    .dataframe thead th {\n",
       "        text-align: right;\n",
       "    }\n",
       "</style>\n",
       "<table border=\"1\" class=\"dataframe\">\n",
       "  <thead>\n",
       "    <tr style=\"text-align: right;\">\n",
       "      <th></th>\n",
       "      <th>itemRevenue</th>\n",
       "      <th>itemQuantity</th>\n",
       "      <th>buyToDetailRate</th>\n",
       "      <th>productAddsToCart</th>\n",
       "      <th>cartToDetailRate</th>\n",
       "      <th>uniquePurchases</th>\n",
       "      <th>quantityAddedToCart</th>\n",
       "      <th>revenuePerItem</th>\n",
       "      <th>productRevenuePerPurchase</th>\n",
       "      <th>itemsPerPurchase</th>\n",
       "      <th>productDetailViews</th>\n",
       "      <th>sessions</th>\n",
       "      <th>bounceRate</th>\n",
       "      <th>pageViews</th>\n",
       "      <th>pageviewsPerSession</th>\n",
       "      <th>sessionDuration</th>\n",
       "      <th>users</th>\n",
       "      <th>newUsers</th>\n",
       "    </tr>\n",
       "  </thead>\n",
       "  <tbody>\n",
       "    <tr>\n",
       "      <th>count</th>\n",
       "      <td>126.000000</td>\n",
       "      <td>126.000000</td>\n",
       "      <td>126.000000</td>\n",
       "      <td>126.000000</td>\n",
       "      <td>126.000000</td>\n",
       "      <td>126.000000</td>\n",
       "      <td>126.000000</td>\n",
       "      <td>126.000000</td>\n",
       "      <td>126.000000</td>\n",
       "      <td>126.000000</td>\n",
       "      <td>126.0</td>\n",
       "      <td>126.000000</td>\n",
       "      <td>126.000000</td>\n",
       "      <td>126.000000</td>\n",
       "      <td>126.0</td>\n",
       "      <td>126.000000</td>\n",
       "      <td>126.000000</td>\n",
       "      <td>126.000000</td>\n",
       "    </tr>\n",
       "    <tr>\n",
       "      <th>mean</th>\n",
       "      <td>361.769841</td>\n",
       "      <td>1.396825</td>\n",
       "      <td>0.510757</td>\n",
       "      <td>0.865079</td>\n",
       "      <td>0.496335</td>\n",
       "      <td>1.365079</td>\n",
       "      <td>0.888889</td>\n",
       "      <td>240.907407</td>\n",
       "      <td>245.050265</td>\n",
       "      <td>1.031746</td>\n",
       "      <td>0.0</td>\n",
       "      <td>11.587302</td>\n",
       "      <td>0.529753</td>\n",
       "      <td>115.873016</td>\n",
       "      <td>0.0</td>\n",
       "      <td>485.587302</td>\n",
       "      <td>1.158730</td>\n",
       "      <td>0.531746</td>\n",
       "    </tr>\n",
       "    <tr>\n",
       "      <th>std</th>\n",
       "      <td>320.845032</td>\n",
       "      <td>0.738424</td>\n",
       "      <td>0.294364</td>\n",
       "      <td>1.014717</td>\n",
       "      <td>0.287586</td>\n",
       "      <td>0.733247</td>\n",
       "      <td>1.067500</td>\n",
       "      <td>142.951718</td>\n",
       "      <td>141.565569</td>\n",
       "      <td>0.176023</td>\n",
       "      <td>0.0</td>\n",
       "      <td>4.632528</td>\n",
       "      <td>0.300776</td>\n",
       "      <td>46.325282</td>\n",
       "      <td>0.0</td>\n",
       "      <td>292.931207</td>\n",
       "      <td>0.463253</td>\n",
       "      <td>0.665571</td>\n",
       "    </tr>\n",
       "    <tr>\n",
       "      <th>min</th>\n",
       "      <td>77.000000</td>\n",
       "      <td>1.000000</td>\n",
       "      <td>0.002249</td>\n",
       "      <td>0.000000</td>\n",
       "      <td>0.002167</td>\n",
       "      <td>1.000000</td>\n",
       "      <td>0.000000</td>\n",
       "      <td>77.000000</td>\n",
       "      <td>77.000000</td>\n",
       "      <td>1.000000</td>\n",
       "      <td>0.0</td>\n",
       "      <td>10.000000</td>\n",
       "      <td>0.001045</td>\n",
       "      <td>100.000000</td>\n",
       "      <td>0.0</td>\n",
       "      <td>10.000000</td>\n",
       "      <td>1.000000</td>\n",
       "      <td>0.000000</td>\n",
       "    </tr>\n",
       "    <tr>\n",
       "      <th>25%</th>\n",
       "      <td>129.250000</td>\n",
       "      <td>1.000000</td>\n",
       "      <td>0.262570</td>\n",
       "      <td>0.000000</td>\n",
       "      <td>0.251957</td>\n",
       "      <td>1.000000</td>\n",
       "      <td>0.000000</td>\n",
       "      <td>126.000000</td>\n",
       "      <td>126.000000</td>\n",
       "      <td>1.000000</td>\n",
       "      <td>0.0</td>\n",
       "      <td>10.000000</td>\n",
       "      <td>0.256912</td>\n",
       "      <td>100.000000</td>\n",
       "      <td>0.0</td>\n",
       "      <td>236.500000</td>\n",
       "      <td>1.000000</td>\n",
       "      <td>0.000000</td>\n",
       "    </tr>\n",
       "    <tr>\n",
       "      <th>50%</th>\n",
       "      <td>224.500000</td>\n",
       "      <td>1.000000</td>\n",
       "      <td>0.531981</td>\n",
       "      <td>1.000000</td>\n",
       "      <td>0.498651</td>\n",
       "      <td>1.000000</td>\n",
       "      <td>1.000000</td>\n",
       "      <td>209.000000</td>\n",
       "      <td>209.000000</td>\n",
       "      <td>1.000000</td>\n",
       "      <td>0.0</td>\n",
       "      <td>10.000000</td>\n",
       "      <td>0.583011</td>\n",
       "      <td>100.000000</td>\n",
       "      <td>0.0</td>\n",
       "      <td>459.500000</td>\n",
       "      <td>1.000000</td>\n",
       "      <td>0.000000</td>\n",
       "    </tr>\n",
       "    <tr>\n",
       "      <th>75%</th>\n",
       "      <td>539.000000</td>\n",
       "      <td>2.000000</td>\n",
       "      <td>0.754097</td>\n",
       "      <td>1.000000</td>\n",
       "      <td>0.758365</td>\n",
       "      <td>2.000000</td>\n",
       "      <td>1.000000</td>\n",
       "      <td>329.000000</td>\n",
       "      <td>329.000000</td>\n",
       "      <td>1.000000</td>\n",
       "      <td>0.0</td>\n",
       "      <td>10.000000</td>\n",
       "      <td>0.757587</td>\n",
       "      <td>100.000000</td>\n",
       "      <td>0.0</td>\n",
       "      <td>761.500000</td>\n",
       "      <td>1.000000</td>\n",
       "      <td>1.000000</td>\n",
       "    </tr>\n",
       "    <tr>\n",
       "      <th>max</th>\n",
       "      <td>1518.000000</td>\n",
       "      <td>4.000000</td>\n",
       "      <td>0.998032</td>\n",
       "      <td>5.000000</td>\n",
       "      <td>0.993690</td>\n",
       "      <td>4.000000</td>\n",
       "      <td>5.000000</td>\n",
       "      <td>759.000000</td>\n",
       "      <td>759.000000</td>\n",
       "      <td>2.000000</td>\n",
       "      <td>0.0</td>\n",
       "      <td>40.000000</td>\n",
       "      <td>0.993077</td>\n",
       "      <td>400.000000</td>\n",
       "      <td>0.0</td>\n",
       "      <td>997.000000</td>\n",
       "      <td>4.000000</td>\n",
       "      <td>4.000000</td>\n",
       "    </tr>\n",
       "  </tbody>\n",
       "</table>\n",
       "</div>"
      ],
      "text/plain": [
       "       itemRevenue  itemQuantity  buyToDetailRate  productAddsToCart  \\\n",
       "count   126.000000    126.000000       126.000000         126.000000   \n",
       "mean    361.769841      1.396825         0.510757           0.865079   \n",
       "std     320.845032      0.738424         0.294364           1.014717   \n",
       "min      77.000000      1.000000         0.002249           0.000000   \n",
       "25%     129.250000      1.000000         0.262570           0.000000   \n",
       "50%     224.500000      1.000000         0.531981           1.000000   \n",
       "75%     539.000000      2.000000         0.754097           1.000000   \n",
       "max    1518.000000      4.000000         0.998032           5.000000   \n",
       "\n",
       "       cartToDetailRate  uniquePurchases  quantityAddedToCart  revenuePerItem  \\\n",
       "count        126.000000       126.000000           126.000000      126.000000   \n",
       "mean           0.496335         1.365079             0.888889      240.907407   \n",
       "std            0.287586         0.733247             1.067500      142.951718   \n",
       "min            0.002167         1.000000             0.000000       77.000000   \n",
       "25%            0.251957         1.000000             0.000000      126.000000   \n",
       "50%            0.498651         1.000000             1.000000      209.000000   \n",
       "75%            0.758365         2.000000             1.000000      329.000000   \n",
       "max            0.993690         4.000000             5.000000      759.000000   \n",
       "\n",
       "       productRevenuePerPurchase  itemsPerPurchase  productDetailViews  \\\n",
       "count                 126.000000        126.000000               126.0   \n",
       "mean                  245.050265          1.031746                 0.0   \n",
       "std                   141.565569          0.176023                 0.0   \n",
       "min                    77.000000          1.000000                 0.0   \n",
       "25%                   126.000000          1.000000                 0.0   \n",
       "50%                   209.000000          1.000000                 0.0   \n",
       "75%                   329.000000          1.000000                 0.0   \n",
       "max                   759.000000          2.000000                 0.0   \n",
       "\n",
       "         sessions  bounceRate   pageViews  pageviewsPerSession  \\\n",
       "count  126.000000  126.000000  126.000000                126.0   \n",
       "mean    11.587302    0.529753  115.873016                  0.0   \n",
       "std      4.632528    0.300776   46.325282                  0.0   \n",
       "min     10.000000    0.001045  100.000000                  0.0   \n",
       "25%     10.000000    0.256912  100.000000                  0.0   \n",
       "50%     10.000000    0.583011  100.000000                  0.0   \n",
       "75%     10.000000    0.757587  100.000000                  0.0   \n",
       "max     40.000000    0.993077  400.000000                  0.0   \n",
       "\n",
       "       sessionDuration       users    newUsers  \n",
       "count       126.000000  126.000000  126.000000  \n",
       "mean        485.587302    1.158730    0.531746  \n",
       "std         292.931207    0.463253    0.665571  \n",
       "min          10.000000    1.000000    0.000000  \n",
       "25%         236.500000    1.000000    0.000000  \n",
       "50%         459.500000    1.000000    0.000000  \n",
       "75%         761.500000    1.000000    1.000000  \n",
       "max         997.000000    4.000000    4.000000  "
      ]
     },
     "execution_count": 30,
     "metadata": {},
     "output_type": "execute_result"
    }
   ],
   "source": [
    "Sales_positive_revenue.describe()"
   ]
  },
  {
   "cell_type": "code",
   "execution_count": 31,
   "id": "8d1dcc4b",
   "metadata": {},
   "outputs": [
    {
     "data": {
      "text/plain": [
       "<AxesSubplot:xlabel='Product_Name'>"
      ]
     },
     "execution_count": 31,
     "metadata": {},
     "output_type": "execute_result"
    },
    {
     "data": {
      "image/png": "[encoded data removed]",
      "text/plain": [
       "<Figure size 720x576 with 1 Axes>"
      ]
     },
     "metadata": {
      "needs_background": "light"
     },
     "output_type": "display_data"
    }
   ],
   "source": [
    "#plotting the 30 highest revenue collecting products\n",
    "plt.figure(figsize=(10,8))\n",
    "Sales_positive_revenue.groupby(\"Product_Name\").sum().sort_values(by = \"itemRevenue\", ascending = False).head(30)[\"itemRevenue\"].plot(kind = \"bar\", color = 'saddlebrown')\n"
   ]
  },
  {
   "cell_type": "markdown",
   "id": "8bf6e1c0",
   "metadata": {},
   "source": [
    "##### Revenue breakdown by Categories"
   ]
  },
  {
   "cell_type": "code",
   "execution_count": 32,
   "id": "e3638610",
   "metadata": {},
   "outputs": [],
   "source": [
    "# grouping the item Revenues by Categories and plotting a pie chart\n",
    "temp_categories_df = Sales_positive_revenue.groupby(\"Category\").sum()"
   ]
  },
  {
   "cell_type": "code",
   "execution_count": 33,
   "id": "5b0f5d6f",
   "metadata": {
    "scrolled": true
   },
   "outputs": [],
   "source": [
    "temp_categories_df\n",
    "temp_categories_df.reset_index(inplace=True)"
   ]
  },
  {
   "cell_type": "code",
   "execution_count": 34,
   "id": "04e65624",
   "metadata": {},
   "outputs": [],
   "source": [
    "y=temp_categories_df['itemRevenue']\n",
    "label=temp_categories_df['Category']"
   ]
  },
  {
   "cell_type": "code",
   "execution_count": 35,
   "id": "809158aa",
   "metadata": {},
   "outputs": [
    {
     "data": {
      "image/png": "[encoded data removed]",
      "text/plain": [
       "<Figure size 432x288 with 1 Axes>"
      ]
     },
     "metadata": {},
     "output_type": "display_data"
    }
   ],
   "source": [
    "plt.pie(y,labels=label,autopct='%1.1f%%')\n",
    "plt.title('Revenue breakdown by demographic')\n",
    "plt.axis('equal')\n",
    "plt.show()"
   ]
  },
  {
   "cell_type": "code",
   "execution_count": null,
   "id": "44ff3531",
   "metadata": {},
   "outputs": [],
   "source": []
  },
  {
   "cell_type": "code",
   "execution_count": 36,
   "id": "d9d2546b",
   "metadata": {},
   "outputs": [
    {
     "data": {
      "text/html": [
       "<div>\n",
       "<style scoped>\n",
       "    .dataframe tbody tr th:only-of-type {\n",
       "        vertical-align: middle;\n",
       "    }\n",
       "\n",
       "    .dataframe tbody tr th {\n",
       "        vertical-align: top;\n",
       "    }\n",
       "\n",
       "    .dataframe thead th {\n",
       "        text-align: right;\n",
       "    }\n",
       "</style>\n",
       "<table border=\"1\" class=\"dataframe\">\n",
       "  <thead>\n",
       "    <tr style=\"text-align: right;\">\n",
       "      <th></th>\n",
       "      <th>Product_Category</th>\n",
       "      <th>itemRevenue</th>\n",
       "      <th>itemQuantity</th>\n",
       "      <th>buyToDetailRate</th>\n",
       "      <th>productAddsToCart</th>\n",
       "      <th>cartToDetailRate</th>\n",
       "      <th>uniquePurchases</th>\n",
       "      <th>quantityAddedToCart</th>\n",
       "      <th>revenuePerItem</th>\n",
       "      <th>productRevenuePerPurchase</th>\n",
       "      <th>itemsPerPurchase</th>\n",
       "      <th>productDetailViews</th>\n",
       "      <th>sessions</th>\n",
       "      <th>bounceRate</th>\n",
       "      <th>pageViews</th>\n",
       "      <th>pageviewsPerSession</th>\n",
       "      <th>sessionDuration</th>\n",
       "      <th>users</th>\n",
       "      <th>newUsers</th>\n",
       "    </tr>\n",
       "  </thead>\n",
       "  <tbody>\n",
       "    <tr>\n",
       "      <th>0</th>\n",
       "      <td>Belt</td>\n",
       "      <td>190.0</td>\n",
       "      <td>2</td>\n",
       "      <td>0.589633</td>\n",
       "      <td>2</td>\n",
       "      <td>1.273782</td>\n",
       "      <td>2</td>\n",
       "      <td>2</td>\n",
       "      <td>190.000000</td>\n",
       "      <td>190.000000</td>\n",
       "      <td>2</td>\n",
       "      <td>0</td>\n",
       "      <td>20</td>\n",
       "      <td>1.037830</td>\n",
       "      <td>200</td>\n",
       "      <td>0</td>\n",
       "      <td>507</td>\n",
       "      <td>2</td>\n",
       "      <td>0</td>\n",
       "    </tr>\n",
       "    <tr>\n",
       "      <th>1</th>\n",
       "      <td>Flip-Flops</td>\n",
       "      <td>10390.0</td>\n",
       "      <td>53</td>\n",
       "      <td>19.563073</td>\n",
       "      <td>45</td>\n",
       "      <td>17.381886</td>\n",
       "      <td>50</td>\n",
       "      <td>46</td>\n",
       "      <td>7076.000000</td>\n",
       "      <td>7469.000000</td>\n",
       "      <td>42</td>\n",
       "      <td>0</td>\n",
       "      <td>460</td>\n",
       "      <td>20.287776</td>\n",
       "      <td>4600</td>\n",
       "      <td>0</td>\n",
       "      <td>18720</td>\n",
       "      <td>46</td>\n",
       "      <td>14</td>\n",
       "    </tr>\n",
       "    <tr>\n",
       "      <th>2</th>\n",
       "      <td>Flops</td>\n",
       "      <td>9411.0</td>\n",
       "      <td>47</td>\n",
       "      <td>19.329824</td>\n",
       "      <td>30</td>\n",
       "      <td>18.028179</td>\n",
       "      <td>46</td>\n",
       "      <td>32</td>\n",
       "      <td>6650.333333</td>\n",
       "      <td>6779.333333</td>\n",
       "      <td>38</td>\n",
       "      <td>0</td>\n",
       "      <td>450</td>\n",
       "      <td>18.993137</td>\n",
       "      <td>4500</td>\n",
       "      <td>0</td>\n",
       "      <td>19356</td>\n",
       "      <td>45</td>\n",
       "      <td>26</td>\n",
       "    </tr>\n",
       "    <tr>\n",
       "      <th>3</th>\n",
       "      <td>Sandal</td>\n",
       "      <td>4219.0</td>\n",
       "      <td>11</td>\n",
       "      <td>4.633527</td>\n",
       "      <td>3</td>\n",
       "      <td>6.201338</td>\n",
       "      <td>11</td>\n",
       "      <td>3</td>\n",
       "      <td>3720.000000</td>\n",
       "      <td>3720.000000</td>\n",
       "      <td>10</td>\n",
       "      <td>0</td>\n",
       "      <td>100</td>\n",
       "      <td>4.315761</td>\n",
       "      <td>1000</td>\n",
       "      <td>0</td>\n",
       "      <td>5141</td>\n",
       "      <td>10</td>\n",
       "      <td>5</td>\n",
       "    </tr>\n",
       "    <tr>\n",
       "      <th>4</th>\n",
       "      <td>Sandals</td>\n",
       "      <td>18852.0</td>\n",
       "      <td>54</td>\n",
       "      <td>15.668069</td>\n",
       "      <td>22</td>\n",
       "      <td>14.522540</td>\n",
       "      <td>54</td>\n",
       "      <td>22</td>\n",
       "      <td>10197.000000</td>\n",
       "      <td>10197.000000</td>\n",
       "      <td>29</td>\n",
       "      <td>0</td>\n",
       "      <td>340</td>\n",
       "      <td>17.175801</td>\n",
       "      <td>3400</td>\n",
       "      <td>0</td>\n",
       "      <td>14185</td>\n",
       "      <td>34</td>\n",
       "      <td>17</td>\n",
       "    </tr>\n",
       "    <tr>\n",
       "      <th>5</th>\n",
       "      <td>Shoes</td>\n",
       "      <td>1425.0</td>\n",
       "      <td>5</td>\n",
       "      <td>2.677412</td>\n",
       "      <td>5</td>\n",
       "      <td>3.105320</td>\n",
       "      <td>5</td>\n",
       "      <td>5</td>\n",
       "      <td>1425.000000</td>\n",
       "      <td>1425.000000</td>\n",
       "      <td>5</td>\n",
       "      <td>0</td>\n",
       "      <td>50</td>\n",
       "      <td>2.259877</td>\n",
       "      <td>500</td>\n",
       "      <td>0</td>\n",
       "      <td>2464</td>\n",
       "      <td>5</td>\n",
       "      <td>3</td>\n",
       "    </tr>\n",
       "    <tr>\n",
       "      <th>6</th>\n",
       "      <td>Slippers</td>\n",
       "      <td>937.0</td>\n",
       "      <td>3</td>\n",
       "      <td>1.237156</td>\n",
       "      <td>1</td>\n",
       "      <td>1.793612</td>\n",
       "      <td>3</td>\n",
       "      <td>1</td>\n",
       "      <td>937.000000</td>\n",
       "      <td>937.000000</td>\n",
       "      <td>3</td>\n",
       "      <td>0</td>\n",
       "      <td>30</td>\n",
       "      <td>2.458977</td>\n",
       "      <td>300</td>\n",
       "      <td>0</td>\n",
       "      <td>556</td>\n",
       "      <td>3</td>\n",
       "      <td>1</td>\n",
       "    </tr>\n",
       "    <tr>\n",
       "      <th>7</th>\n",
       "      <td>flops</td>\n",
       "      <td>159.0</td>\n",
       "      <td>1</td>\n",
       "      <td>0.656711</td>\n",
       "      <td>1</td>\n",
       "      <td>0.231573</td>\n",
       "      <td>1</td>\n",
       "      <td>1</td>\n",
       "      <td>159.000000</td>\n",
       "      <td>159.000000</td>\n",
       "      <td>1</td>\n",
       "      <td>0</td>\n",
       "      <td>10</td>\n",
       "      <td>0.219778</td>\n",
       "      <td>100</td>\n",
       "      <td>0</td>\n",
       "      <td>255</td>\n",
       "      <td>1</td>\n",
       "      <td>1</td>\n",
       "    </tr>\n",
       "  </tbody>\n",
       "</table>\n",
       "</div>"
      ],
      "text/plain": [
       "  Product_Category  itemRevenue  itemQuantity  buyToDetailRate  \\\n",
       "0             Belt        190.0             2         0.589633   \n",
       "1       Flip-Flops      10390.0            53        19.563073   \n",
       "2            Flops       9411.0            47        19.329824   \n",
       "3           Sandal       4219.0            11         4.633527   \n",
       "4          Sandals      18852.0            54        15.668069   \n",
       "5            Shoes       1425.0             5         2.677412   \n",
       "6         Slippers        937.0             3         1.237156   \n",
       "7            flops        159.0             1         0.656711   \n",
       "\n",
       "   productAddsToCart  cartToDetailRate  uniquePurchases  quantityAddedToCart  \\\n",
       "0                  2          1.273782                2                    2   \n",
       "1                 45         17.381886               50                   46   \n",
       "2                 30         18.028179               46                   32   \n",
       "3                  3          6.201338               11                    3   \n",
       "4                 22         14.522540               54                   22   \n",
       "5                  5          3.105320                5                    5   \n",
       "6                  1          1.793612                3                    1   \n",
       "7                  1          0.231573                1                    1   \n",
       "\n",
       "   revenuePerItem  productRevenuePerPurchase  itemsPerPurchase  \\\n",
       "0      190.000000                 190.000000                 2   \n",
       "1     7076.000000                7469.000000                42   \n",
       "2     6650.333333                6779.333333                38   \n",
       "3     3720.000000                3720.000000                10   \n",
       "4    10197.000000               10197.000000                29   \n",
       "5     1425.000000                1425.000000                 5   \n",
       "6      937.000000                 937.000000                 3   \n",
       "7      159.000000                 159.000000                 1   \n",
       "\n",
       "   productDetailViews  sessions  bounceRate  pageViews  pageviewsPerSession  \\\n",
       "0                   0        20    1.037830        200                    0   \n",
       "1                   0       460   20.287776       4600                    0   \n",
       "2                   0       450   18.993137       4500                    0   \n",
       "3                   0       100    4.315761       1000                    0   \n",
       "4                   0       340   17.175801       3400                    0   \n",
       "5                   0        50    2.259877        500                    0   \n",
       "6                   0        30    2.458977        300                    0   \n",
       "7                   0        10    0.219778        100                    0   \n",
       "\n",
       "   sessionDuration  users  newUsers  \n",
       "0              507      2         0  \n",
       "1            18720     46        14  \n",
       "2            19356     45        26  \n",
       "3             5141     10         5  \n",
       "4            14185     34        17  \n",
       "5             2464      5         3  \n",
       "6              556      3         1  \n",
       "7              255      1         1  "
      ]
     },
     "execution_count": 36,
     "metadata": {},
     "output_type": "execute_result"
    }
   ],
   "source": [
    "temp_product_df = Sales_positive_revenue.groupby(\"Product_Category\").sum()\n",
    "temp_product_df.reset_index(inplace=True)\n",
    "temp_product_df"
   ]
  },
  {
   "cell_type": "markdown",
   "id": "59e3c961",
   "metadata": {},
   "source": [
    "### Treemap"
   ]
  },
  {
   "cell_type": "code",
   "execution_count": 37,
   "id": "de22e47e",
   "metadata": {},
   "outputs": [
    {
     "data": {
      "text/html": [
       "<div>\n",
       "<style scoped>\n",
       "    .dataframe tbody tr th:only-of-type {\n",
       "        vertical-align: middle;\n",
       "    }\n",
       "\n",
       "    .dataframe tbody tr th {\n",
       "        vertical-align: top;\n",
       "    }\n",
       "\n",
       "    .dataframe thead th {\n",
       "        text-align: right;\n",
       "    }\n",
       "</style>\n",
       "<table border=\"1\" class=\"dataframe\">\n",
       "  <thead>\n",
       "    <tr style=\"text-align: right;\">\n",
       "      <th></th>\n",
       "      <th></th>\n",
       "      <th>itemRevenue</th>\n",
       "    </tr>\n",
       "    <tr>\n",
       "      <th>Category</th>\n",
       "      <th>Product_Category</th>\n",
       "      <th></th>\n",
       "    </tr>\n",
       "  </thead>\n",
       "  <tbody>\n",
       "    <tr>\n",
       "      <th>Boys</th>\n",
       "      <th>Sandals</th>\n",
       "      <td>3290.0</td>\n",
       "    </tr>\n",
       "    <tr>\n",
       "      <th rowspan=\"6\" valign=\"top\">Kids</th>\n",
       "      <th>Flip-Flops</th>\n",
       "      <td>469.0</td>\n",
       "    </tr>\n",
       "    <tr>\n",
       "      <th>Flops</th>\n",
       "      <td>98.0</td>\n",
       "    </tr>\n",
       "    <tr>\n",
       "      <th>Sandal</th>\n",
       "      <td>617.0</td>\n",
       "    </tr>\n",
       "    <tr>\n",
       "      <th>Sandals</th>\n",
       "      <td>6779.0</td>\n",
       "    </tr>\n",
       "    <tr>\n",
       "      <th>Shoes</th>\n",
       "      <td>926.0</td>\n",
       "    </tr>\n",
       "    <tr>\n",
       "      <th>Slippers</th>\n",
       "      <td>738.0</td>\n",
       "    </tr>\n",
       "    <tr>\n",
       "      <th rowspan=\"7\" valign=\"top\">Men's</th>\n",
       "      <th>Belt</th>\n",
       "      <td>190.0</td>\n",
       "    </tr>\n",
       "    <tr>\n",
       "      <th>Flip-Flops</th>\n",
       "      <td>3769.0</td>\n",
       "    </tr>\n",
       "    <tr>\n",
       "      <th>Flops</th>\n",
       "      <td>6639.0</td>\n",
       "    </tr>\n",
       "    <tr>\n",
       "      <th>Sandal</th>\n",
       "      <td>2496.0</td>\n",
       "    </tr>\n",
       "    <tr>\n",
       "      <th>Sandals</th>\n",
       "      <td>4332.0</td>\n",
       "    </tr>\n",
       "    <tr>\n",
       "      <th>Shoes</th>\n",
       "      <td>499.0</td>\n",
       "    </tr>\n",
       "    <tr>\n",
       "      <th>flops</th>\n",
       "      <td>159.0</td>\n",
       "    </tr>\n",
       "    <tr>\n",
       "      <th rowspan=\"5\" valign=\"top\">Women's</th>\n",
       "      <th>Flip-Flops</th>\n",
       "      <td>6152.0</td>\n",
       "    </tr>\n",
       "    <tr>\n",
       "      <th>Flops</th>\n",
       "      <td>2674.0</td>\n",
       "    </tr>\n",
       "    <tr>\n",
       "      <th>Sandal</th>\n",
       "      <td>1106.0</td>\n",
       "    </tr>\n",
       "    <tr>\n",
       "      <th>Sandals</th>\n",
       "      <td>4451.0</td>\n",
       "    </tr>\n",
       "    <tr>\n",
       "      <th>Slippers</th>\n",
       "      <td>199.0</td>\n",
       "    </tr>\n",
       "  </tbody>\n",
       "</table>\n",
       "</div>"
      ],
      "text/plain": [
       "                           itemRevenue\n",
       "Category Product_Category             \n",
       "Boys     Sandals                3290.0\n",
       "Kids     Flip-Flops              469.0\n",
       "         Flops                    98.0\n",
       "         Sandal                  617.0\n",
       "         Sandals                6779.0\n",
       "         Shoes                   926.0\n",
       "         Slippers                738.0\n",
       "Men's    Belt                    190.0\n",
       "         Flip-Flops             3769.0\n",
       "         Flops                  6639.0\n",
       "         Sandal                 2496.0\n",
       "         Sandals                4332.0\n",
       "         Shoes                   499.0\n",
       "         flops                   159.0\n",
       "Women's  Flip-Flops             6152.0\n",
       "         Flops                  2674.0\n",
       "         Sandal                 1106.0\n",
       "         Sandals                4451.0\n",
       "         Slippers                199.0"
      ]
     },
     "execution_count": 37,
     "metadata": {},
     "output_type": "execute_result"
    }
   ],
   "source": [
    "temp_product=Sales_positive_revenue.groupby(['Category','Product_Category']).agg({'itemRevenue':'sum'})\n",
    "temp_product"
   ]
  },
  {
   "cell_type": "code",
   "execution_count": 38,
   "id": "04684851",
   "metadata": {},
   "outputs": [],
   "source": [
    "import plotly.express as px\n",
    "import plotly.offline as pyo"
   ]
  },
  {
   "cell_type": "code",
   "execution_count": 39,
   "id": "d7d579a0",
   "metadata": {},
   "outputs": [
    {
     "data": {
      "text/plain": [
       "'temp-plot.html'"
      ]
     },
     "execution_count": 39,
     "metadata": {},
     "output_type": "execute_result"
    }
   ],
   "source": [
    "fig=px.treemap(Sales_positive_revenue,path=['Category','Product_Category'],values='itemRevenue')\n",
    "pyo.plot(fig)\n"
   ]
  },
  {
   "attachments": {
    "treemap.jpg": {
     "image/jpeg": "[encoded data removed]"
    }
   },
   "cell_type": "markdown",
   "id": "636be778",
   "metadata": {},
   "source": [
    "![treemap.jpg](attachment:treemap.jpg)"
   ]
  },
  {
   "cell_type": "markdown",
   "id": "7bbedd93",
   "metadata": {},
   "source": [
    "#### Revenue on different week days \n",
    "The dataset has days from 4th June 2021 to 10th June 2021"
   ]
  },
  {
   "cell_type": "code",
   "execution_count": 40,
   "id": "fbfddafa",
   "metadata": {},
   "outputs": [
    {
     "name": "stderr",
     "output_type": "stream",
     "text": [
      "C:\\Users\\Muskan\\Anaconda3\\lib\\site-packages\\pandas\\core\\indexing.py:1597: SettingWithCopyWarning:\n",
      "\n",
      "\n",
      "A value is trying to be set on a copy of a slice from a DataFrame.\n",
      "Try using .loc[row_indexer,col_indexer] = value instead\n",
      "\n",
      "See the caveats in the documentation: https://pandas.pydata.org/pandas-docs/stable/user_guide/indexing.html#returning-a-view-versus-a-copy\n",
      "\n",
      "C:\\Users\\Muskan\\Anaconda3\\lib\\site-packages\\pandas\\core\\indexing.py:1676: SettingWithCopyWarning:\n",
      "\n",
      "\n",
      "A value is trying to be set on a copy of a slice from a DataFrame.\n",
      "Try using .loc[row_indexer,col_indexer] = value instead\n",
      "\n",
      "See the caveats in the documentation: https://pandas.pydata.org/pandas-docs/stable/user_guide/indexing.html#returning-a-view-versus-a-copy\n",
      "\n"
     ]
    }
   ],
   "source": [
    "#getting name of the day and the number corresponding to the day of the week\n",
    "Sales_positive_revenue.loc[:, \"Day\"] = Sales_positive_revenue['Date'].dt.day_name()\n",
    "Sales_positive_revenue.loc[:, \"Day_number\"] = Sales_positive_revenue['Date'].dt.dayofweek\n",
    "\n",
    "temp_line_day=Sales_positive_revenue[['Day','itemRevenue','Day_number']]\n",
    "temp_line_day.head()\n",
    "temp_line_day=temp_line_day.sort_values(by='Day_number')"
   ]
  },
  {
   "cell_type": "code",
   "execution_count": 41,
   "id": "d66e6204",
   "metadata": {
    "scrolled": true
   },
   "outputs": [
    {
     "data": {
      "text/html": [
       "<div>\n",
       "<style scoped>\n",
       "    .dataframe tbody tr th:only-of-type {\n",
       "        vertical-align: middle;\n",
       "    }\n",
       "\n",
       "    .dataframe tbody tr th {\n",
       "        vertical-align: top;\n",
       "    }\n",
       "\n",
       "    .dataframe thead th {\n",
       "        text-align: right;\n",
       "    }\n",
       "</style>\n",
       "<table border=\"1\" class=\"dataframe\">\n",
       "  <thead>\n",
       "    <tr style=\"text-align: right;\">\n",
       "      <th></th>\n",
       "      <th>Day</th>\n",
       "      <th>itemRevenue</th>\n",
       "      <th>Day_number</th>\n",
       "    </tr>\n",
       "  </thead>\n",
       "  <tbody>\n",
       "    <tr>\n",
       "      <th>0</th>\n",
       "      <td>Monday</td>\n",
       "      <td>749.0</td>\n",
       "      <td>0</td>\n",
       "    </tr>\n",
       "    <tr>\n",
       "      <th>30</th>\n",
       "      <td>Monday</td>\n",
       "      <td>199.0</td>\n",
       "      <td>0</td>\n",
       "    </tr>\n",
       "    <tr>\n",
       "      <th>31</th>\n",
       "      <td>Monday</td>\n",
       "      <td>159.0</td>\n",
       "      <td>0</td>\n",
       "    </tr>\n",
       "    <tr>\n",
       "      <th>32</th>\n",
       "      <td>Monday</td>\n",
       "      <td>149.0</td>\n",
       "      <td>0</td>\n",
       "    </tr>\n",
       "    <tr>\n",
       "      <th>33</th>\n",
       "      <td>Monday</td>\n",
       "      <td>145.0</td>\n",
       "      <td>0</td>\n",
       "    </tr>\n",
       "  </tbody>\n",
       "</table>\n",
       "</div>"
      ],
      "text/plain": [
       "       Day  itemRevenue  Day_number\n",
       "0   Monday        749.0           0\n",
       "30  Monday        199.0           0\n",
       "31  Monday        159.0           0\n",
       "32  Monday        149.0           0\n",
       "33  Monday        145.0           0"
      ]
     },
     "execution_count": 41,
     "metadata": {},
     "output_type": "execute_result"
    }
   ],
   "source": [
    "#0 is for Monday thus Number 6 is Sunday\n",
    "temp_line_day.head()"
   ]
  },
  {
   "cell_type": "code",
   "execution_count": 42,
   "id": "93347689",
   "metadata": {},
   "outputs": [
    {
     "data": {
      "text/html": [
       "<div>\n",
       "<style scoped>\n",
       "    .dataframe tbody tr th:only-of-type {\n",
       "        vertical-align: middle;\n",
       "    }\n",
       "\n",
       "    .dataframe tbody tr th {\n",
       "        vertical-align: top;\n",
       "    }\n",
       "\n",
       "    .dataframe thead th {\n",
       "        text-align: right;\n",
       "    }\n",
       "</style>\n",
       "<table border=\"1\" class=\"dataframe\">\n",
       "  <thead>\n",
       "    <tr style=\"text-align: right;\">\n",
       "      <th></th>\n",
       "      <th>Day</th>\n",
       "      <th>itemRevenue</th>\n",
       "      <th>Day_number</th>\n",
       "    </tr>\n",
       "  </thead>\n",
       "  <tbody>\n",
       "    <tr>\n",
       "      <th>1895</th>\n",
       "      <td>Sunday</td>\n",
       "      <td>169.0</td>\n",
       "      <td>6</td>\n",
       "    </tr>\n",
       "    <tr>\n",
       "      <th>1896</th>\n",
       "      <td>Sunday</td>\n",
       "      <td>139.0</td>\n",
       "      <td>6</td>\n",
       "    </tr>\n",
       "    <tr>\n",
       "      <th>1897</th>\n",
       "      <td>Sunday</td>\n",
       "      <td>129.0</td>\n",
       "      <td>6</td>\n",
       "    </tr>\n",
       "    <tr>\n",
       "      <th>1898</th>\n",
       "      <td>Sunday</td>\n",
       "      <td>125.0</td>\n",
       "      <td>6</td>\n",
       "    </tr>\n",
       "    <tr>\n",
       "      <th>1900</th>\n",
       "      <td>Sunday</td>\n",
       "      <td>230.0</td>\n",
       "      <td>6</td>\n",
       "    </tr>\n",
       "  </tbody>\n",
       "</table>\n",
       "</div>"
      ],
      "text/plain": [
       "         Day  itemRevenue  Day_number\n",
       "1895  Sunday        169.0           6\n",
       "1896  Sunday        139.0           6\n",
       "1897  Sunday        129.0           6\n",
       "1898  Sunday        125.0           6\n",
       "1900  Sunday        230.0           6"
      ]
     },
     "execution_count": 42,
     "metadata": {},
     "output_type": "execute_result"
    }
   ],
   "source": [
    "temp_line_day.tail()"
   ]
  },
  {
   "cell_type": "code",
   "execution_count": 43,
   "id": "2f126074",
   "metadata": {
    "scrolled": true
   },
   "outputs": [
    {
     "data": {
      "text/plain": [
       "Text(0.5, 1.0, 'Revenue by Day of the week')"
      ]
     },
     "execution_count": 43,
     "metadata": {},
     "output_type": "execute_result"
    },
    {
     "data": {
      "image/png": "[encoded data removed]",
      "text/plain": [
       "<Figure size 432x288 with 1 Axes>"
      ]
     },
     "metadata": {
      "needs_background": "light"
     },
     "output_type": "display_data"
    }
   ],
   "source": [
    "import seaborn as sns\n",
    "sns.lineplot(x = \"Day_number\", y = \"itemRevenue\", data = temp_line_day.groupby(\"Day_number\").sum(\"itemRevenue\"), marker = \"o\", color = \"sienna\")\n",
    "plt.title(\"Revenue by Day of the week\")"
   ]
  },
  {
   "cell_type": "markdown",
   "id": "100d17a5",
   "metadata": {},
   "source": [
    "### EDA insights\n",
    "1.Women's P Toes Blue Sandals sold collected the highest revenue\n",
    "Men's Blue Flip Flops collected 2nd highest revenue\n",
    "Women's black Flip-Flops have collected the least revenue amongst the 30 displayed products.\n",
    "\n",
    "2.Men's products have the greatest contribution in the revenue \n",
    "\n",
    "3.Sandals are the highest grossing porducts across Men's, Women's, Kids' and Boys' categories\n",
    "\n",
    "4.Monday was  the most profitable day and lowest revenue was collected on Friday (day #5)"
   ]
  },
  {
   "cell_type": "code",
   "execution_count": 44,
   "id": "7be5610b",
   "metadata": {},
   "outputs": [
    {
     "data": {
      "text/html": [
       "<div>\n",
       "<style scoped>\n",
       "    .dataframe tbody tr th:only-of-type {\n",
       "        vertical-align: middle;\n",
       "    }\n",
       "\n",
       "    .dataframe tbody tr th {\n",
       "        vertical-align: top;\n",
       "    }\n",
       "\n",
       "    .dataframe thead th {\n",
       "        text-align: right;\n",
       "    }\n",
       "</style>\n",
       "<table border=\"1\" class=\"dataframe\">\n",
       "  <thead>\n",
       "    <tr style=\"text-align: right;\">\n",
       "      <th></th>\n",
       "      <th>Product_Category</th>\n",
       "      <th>Day</th>\n",
       "      <th>Day_number</th>\n",
       "    </tr>\n",
       "  </thead>\n",
       "  <tbody>\n",
       "    <tr>\n",
       "      <th>51</th>\n",
       "      <td>Flops</td>\n",
       "      <td>Monday</td>\n",
       "      <td>0</td>\n",
       "    </tr>\n",
       "    <tr>\n",
       "      <th>52</th>\n",
       "      <td>Flops</td>\n",
       "      <td>Monday</td>\n",
       "      <td>0</td>\n",
       "    </tr>\n",
       "    <tr>\n",
       "      <th>53</th>\n",
       "      <td>Belt</td>\n",
       "      <td>Monday</td>\n",
       "      <td>0</td>\n",
       "    </tr>\n",
       "    <tr>\n",
       "      <th>54</th>\n",
       "      <td>Belt</td>\n",
       "      <td>Monday</td>\n",
       "      <td>0</td>\n",
       "    </tr>\n",
       "    <tr>\n",
       "      <th>55</th>\n",
       "      <td>Flip-Flops</td>\n",
       "      <td>Monday</td>\n",
       "      <td>0</td>\n",
       "    </tr>\n",
       "  </tbody>\n",
       "</table>\n",
       "</div>"
      ],
      "text/plain": [
       "   Product_Category     Day  Day_number\n",
       "51            Flops  Monday           0\n",
       "52            Flops  Monday           0\n",
       "53             Belt  Monday           0\n",
       "54             Belt  Monday           0\n",
       "55       Flip-Flops  Monday           0"
      ]
     },
     "execution_count": 44,
     "metadata": {},
     "output_type": "execute_result"
    }
   ],
   "source": [
    "#Most sold products on Monday\n",
    "Day_products_Monday=Sales_positive_revenue[Sales_positive_revenue['Day']=='Monday']\n",
    "Day_products_Monday.iloc[:,-3:].tail()"
   ]
  },
  {
   "cell_type": "code",
   "execution_count": 45,
   "id": "d1c22666",
   "metadata": {
    "scrolled": false
   },
   "outputs": [
    {
     "data": {
      "text/html": [
       "<div>\n",
       "<style scoped>\n",
       "    .dataframe tbody tr th:only-of-type {\n",
       "        vertical-align: middle;\n",
       "    }\n",
       "\n",
       "    .dataframe tbody tr th {\n",
       "        vertical-align: top;\n",
       "    }\n",
       "\n",
       "    .dataframe thead th {\n",
       "        text-align: right;\n",
       "    }\n",
       "</style>\n",
       "<table border=\"1\" class=\"dataframe\">\n",
       "  <thead>\n",
       "    <tr style=\"text-align: right;\">\n",
       "      <th></th>\n",
       "      <th>Product_Name</th>\n",
       "      <th>Date</th>\n",
       "      <th>itemRevenue</th>\n",
       "    </tr>\n",
       "  </thead>\n",
       "  <tbody>\n",
       "    <tr>\n",
       "      <th>0</th>\n",
       "      <td>Men's  Plus Black Sandal</td>\n",
       "      <td>2021-06-07</td>\n",
       "      <td>749.0</td>\n",
       "    </tr>\n",
       "    <tr>\n",
       "      <th>4</th>\n",
       "      <td>Women's  Black Flip-Flops</td>\n",
       "      <td>2021-06-07</td>\n",
       "      <td>658.0</td>\n",
       "    </tr>\n",
       "    <tr>\n",
       "      <th>5</th>\n",
       "      <td>Men's Blue   Flip Flops</td>\n",
       "      <td>2021-06-07</td>\n",
       "      <td>658.0</td>\n",
       "    </tr>\n",
       "    <tr>\n",
       "      <th>6</th>\n",
       "      <td>Kids Purple P-Toes Sandals</td>\n",
       "      <td>2021-06-07</td>\n",
       "      <td>658.0</td>\n",
       "    </tr>\n",
       "    <tr>\n",
       "      <th>7</th>\n",
       "      <td>Women's P Toes Blue Sandals</td>\n",
       "      <td>2021-06-07</td>\n",
       "      <td>658.0</td>\n",
       "    </tr>\n",
       "  </tbody>\n",
       "</table>\n",
       "</div>"
      ],
      "text/plain": [
       "                  Product_Name       Date  itemRevenue\n",
       "0     Men's  Plus Black Sandal 2021-06-07        749.0\n",
       "4    Women's  Black Flip-Flops 2021-06-07        658.0\n",
       "5      Men's Blue   Flip Flops 2021-06-07        658.0\n",
       "6   Kids Purple P-Toes Sandals 2021-06-07        658.0\n",
       "7  Women's P Toes Blue Sandals 2021-06-07        658.0"
      ]
     },
     "execution_count": 45,
     "metadata": {},
     "output_type": "execute_result"
    }
   ],
   "source": [
    "Day_products_Monday.iloc[:,0:3].sort_values(by='itemRevenue',ascending=False).head(5)"
   ]
  },
  {
   "cell_type": "markdown",
   "id": "8428159b",
   "metadata": {},
   "source": [
    "##### Men's Plus Black Sandals were the highest grossing product on Mondays. Thus Black Sandal  inventory should be stocked on time always"
   ]
  },
  {
   "cell_type": "code",
   "execution_count": 46,
   "id": "2aa77eac",
   "metadata": {},
   "outputs": [],
   "source": [
    "#Least sold products on Friday\n",
    "Products_Friday=Sales_positive_revenue[Sales_positive_revenue['Day']=='Friday']"
   ]
  },
  {
   "cell_type": "code",
   "execution_count": 47,
   "id": "28f3e7f3",
   "metadata": {
    "scrolled": true
   },
   "outputs": [
    {
     "data": {
      "text/html": [
       "<div>\n",
       "<style scoped>\n",
       "    .dataframe tbody tr th:only-of-type {\n",
       "        vertical-align: middle;\n",
       "    }\n",
       "\n",
       "    .dataframe tbody tr th {\n",
       "        vertical-align: top;\n",
       "    }\n",
       "\n",
       "    .dataframe thead th {\n",
       "        text-align: right;\n",
       "    }\n",
       "</style>\n",
       "<table border=\"1\" class=\"dataframe\">\n",
       "  <thead>\n",
       "    <tr style=\"text-align: right;\">\n",
       "      <th></th>\n",
       "      <th>Product_Name</th>\n",
       "      <th>Date</th>\n",
       "      <th>itemRevenue</th>\n",
       "    </tr>\n",
       "  </thead>\n",
       "  <tbody>\n",
       "    <tr>\n",
       "      <th>1417</th>\n",
       "      <td>Kids Black P-Toes Flip-Flops</td>\n",
       "      <td>2021-06-04</td>\n",
       "      <td>95.0</td>\n",
       "    </tr>\n",
       "    <tr>\n",
       "      <th>1416</th>\n",
       "      <td>Women's Pink Rubber Based Flip-Flops</td>\n",
       "      <td>2021-06-04</td>\n",
       "      <td>115.0</td>\n",
       "    </tr>\n",
       "    <tr>\n",
       "      <th>1415</th>\n",
       "      <td>Men's Casual Blue Flip-Flops</td>\n",
       "      <td>2021-06-04</td>\n",
       "      <td>119.0</td>\n",
       "    </tr>\n",
       "    <tr>\n",
       "      <th>1414</th>\n",
       "      <td>Men's Beige Rubber Based Flip-Flops</td>\n",
       "      <td>2021-06-04</td>\n",
       "      <td>262.0</td>\n",
       "    </tr>\n",
       "    <tr>\n",
       "      <th>1413</th>\n",
       "      <td>Men's  Plus Black Sandal</td>\n",
       "      <td>2021-06-04</td>\n",
       "      <td>749.0</td>\n",
       "    </tr>\n",
       "  </tbody>\n",
       "</table>\n",
       "</div>"
      ],
      "text/plain": [
       "                              Product_Name       Date  itemRevenue\n",
       "1417          Kids Black P-Toes Flip-Flops 2021-06-04         95.0\n",
       "1416  Women's Pink Rubber Based Flip-Flops 2021-06-04        115.0\n",
       "1415          Men's Casual Blue Flip-Flops 2021-06-04        119.0\n",
       "1414   Men's Beige Rubber Based Flip-Flops 2021-06-04        262.0\n",
       "1413              Men's  Plus Black Sandal 2021-06-04        749.0"
      ]
     },
     "execution_count": 47,
     "metadata": {},
     "output_type": "execute_result"
    }
   ],
   "source": [
    "Products_Friday.iloc[:,0:3].sort_values(by='itemRevenue',ascending=True).head(5)"
   ]
  },
  {
   "cell_type": "markdown",
   "id": "313398fa",
   "metadata": {},
   "source": [
    "##### Kids Black P-Toes Flip Flops are the least selling product on the least selling day and either need a strong marketing campaign or need a cost benefit analysis\n",
    "Men's Plus Black Sandal sold for the same amount on Friday as well as Monday, thus is a consistent sell "
   ]
  },
  {
   "cell_type": "code",
   "execution_count": 48,
   "id": "dbf785fe",
   "metadata": {
    "scrolled": true
   },
   "outputs": [
    {
     "data": {
      "text/plain": [
       "Index(['Product_Name', 'Date', 'itemRevenue', 'itemQuantity',\n",
       "       'buyToDetailRate', 'productAddsToCart', 'cartToDetailRate',\n",
       "       'uniquePurchases', 'quantityAddedToCart', 'revenuePerItem',\n",
       "       'productRevenuePerPurchase', 'itemsPerPurchase', 'productDetailViews',\n",
       "       'sessions', 'bounceRate', 'pageViews', 'pageviewsPerSession',\n",
       "       'sessionDuration', 'users', 'newUsers', 'Category_split', 'Category',\n",
       "       'Product_Category'],\n",
       "      dtype='object')"
      ]
     },
     "execution_count": 48,
     "metadata": {},
     "output_type": "execute_result"
    }
   ],
   "source": [
    "Sales_data_copy.columns"
   ]
  },
  {
   "cell_type": "markdown",
   "id": "fc550c25",
   "metadata": {},
   "source": [
    "##### What are the top products in terms of being added to the cart, sold directly, and gain the most number of views on details"
   ]
  },
  {
   "cell_type": "code",
   "execution_count": 49,
   "id": "0d0ca955",
   "metadata": {},
   "outputs": [
    {
     "data": {
      "text/plain": [
       "(array([0, 1, 2, 3, 4]),\n",
       " [Text(0, 0, \"Men's Black  Flip-Flops\"),\n",
       "  Text(1, 0, \"Men's Grey  Sandals\"),\n",
       "  Text(2, 0, \"Men's Brown  Flip-Flops\"),\n",
       "  Text(3, 0, \"Women's Blue  Flip-Flops\"),\n",
       "  Text(4, 0, \"Men's Brown  Formal Belt\")])"
      ]
     },
     "execution_count": 49,
     "metadata": {},
     "output_type": "execute_result"
    },
    {
     "data": {
      "image/png": "[encoded data removed]",
      "text/plain": [
       "<Figure size 1440x1440 with 2 Axes>"
      ]
     },
     "metadata": {
      "needs_background": "light"
     },
     "output_type": "display_data"
    }
   ],
   "source": [
    "plt.figure(figsize=(20,20))\n",
    "plt.subplot(3,2,1)\n",
    "Sales_data_copy.groupby('Product_Name').sum().sort_values(by=\"productAddsToCart\",ascending=False).head(5)[\"productAddsToCart\"].plot(kind = \"bar\",color='royalblue')\n",
    "plt.title(\"Top 5 products added in the cart\")\n",
    "plt.xticks(rotation=45)\n",
    "plt.subplot(3,2,2)\n",
    "Sales_data_copy.groupby('Product_Name').sum().sort_values(by=\"cartToDetailRate\",ascending=False).head(5)[\"cartToDetailRate\"].plot(kind = \"bar\",color='sienna')\n",
    "plt.title(\"Top 5 products added in the cart after viewing product details\")\n",
    "plt.xticks(rotation=45)"
   ]
  },
  {
   "cell_type": "code",
   "execution_count": 50,
   "id": "aed1667c",
   "metadata": {
    "scrolled": true
   },
   "outputs": [
    {
     "data": {
      "text/plain": [
       "(array([0, 1, 2, 3, 4]),\n",
       " [Text(0, 0, \"Men's Black  Flip-Flops\"),\n",
       "  Text(1, 0, \"Men's Grey  Sandals\"),\n",
       "  Text(2, 0, \"Men's Blue  Flip-Flops\"),\n",
       "  Text(3, 0, \"Men's Brown  Flip-Flops\"),\n",
       "  Text(4, 0, \"Men's   Brown Sandal\")])"
      ]
     },
     "execution_count": 50,
     "metadata": {},
     "output_type": "execute_result"
    },
    {
     "data": {
      "image/png": "[encoded data removed]",
      "text/plain": [
       "<Figure size 1152x864 with 2 Axes>"
      ]
     },
     "metadata": {
      "needs_background": "light"
     },
     "output_type": "display_data"
    }
   ],
   "source": [
    "plt.figure(figsize=(16,12))\n",
    "plt.subplot(3,2,1)\n",
    "Sales_data_copy.groupby('Product_Name').sum().sort_values(by=\"revenuePerItem\",ascending=False).head(5)[\"revenuePerItem\"].plot(kind = \"bar\",color='green')\n",
    "plt.title(\"Top 5 products sold\")\n",
    "plt.xticks(rotation=45)\n",
    "plt.subplot(3,2,2)\n",
    "Sales_data_copy.groupby('Product_Name').sum().sort_values(by=\"productDetailViews\",ascending=False).head(5)[\"productDetailViews\"].plot(kind = \"bar\",color='orange')\n",
    "plt.title(\"Top 5 products for which details were viewed\")\n",
    "plt.xticks(rotation=45)\n",
    "\n"
   ]
  },
  {
   "cell_type": "markdown",
   "id": "b0203af5",
   "metadata": {},
   "source": [
    "##### EDA insight\n",
    "Men's Brown Flip Flops are the most frequently added products in shopping carts, but Men's Black Flip Flops have gained the most number of detailed views. This could mean there maybe more size options available in balck flip flops for which product details need to be checked. \n",
    "\n",
    "Meanwhile, Women's P Toes Blue Sandals collected the most revenue even though they were not amongst the top added products in carts. This could mean they are a lone direct order via 'Buy Now' feature. \n",
    "\n",
    "Men's Black Flip Flops still remain the most viewed product. "
   ]
  },
  {
   "cell_type": "code",
   "execution_count": null,
   "id": "abc1dff0",
   "metadata": {},
   "outputs": [],
   "source": []
  },
  {
   "cell_type": "markdown",
   "id": "53448f23",
   "metadata": {},
   "source": [
    "### KPIs"
   ]
  },
  {
   "cell_type": "markdown",
   "id": "d4b19380",
   "metadata": {},
   "source": [
    "##### KPI#1  Customer Retention by bounce rate\n",
    "Do new users explore the site further than the first page as compared to existing users?"
   ]
  },
  {
   "cell_type": "code",
   "execution_count": 51,
   "id": "3ce11611",
   "metadata": {
    "scrolled": true
   },
   "outputs": [
    {
     "name": "stderr",
     "output_type": "stream",
     "text": [
      "<ipython-input-51-6df60dc87dea>:3: SettingWithCopyWarning:\n",
      "\n",
      "\n",
      "A value is trying to be set on a copy of a slice from a DataFrame.\n",
      "Try using .loc[row_indexer,col_indexer] = value instead\n",
      "\n",
      "See the caveats in the documentation: https://pandas.pydata.org/pandas-docs/stable/user_guide/indexing.html#returning-a-view-versus-a-copy\n",
      "\n"
     ]
    },
    {
     "data": {
      "text/html": [
       "<div>\n",
       "<style scoped>\n",
       "    .dataframe tbody tr th:only-of-type {\n",
       "        vertical-align: middle;\n",
       "    }\n",
       "\n",
       "    .dataframe tbody tr th {\n",
       "        vertical-align: top;\n",
       "    }\n",
       "\n",
       "    .dataframe thead th {\n",
       "        text-align: right;\n",
       "    }\n",
       "</style>\n",
       "<table border=\"1\" class=\"dataframe\">\n",
       "  <thead>\n",
       "    <tr style=\"text-align: right;\">\n",
       "      <th></th>\n",
       "      <th>users</th>\n",
       "      <th>newUsers</th>\n",
       "      <th>bounceRate</th>\n",
       "      <th>Existing_Users</th>\n",
       "    </tr>\n",
       "  </thead>\n",
       "  <tbody>\n",
       "    <tr>\n",
       "      <th>0</th>\n",
       "      <td>1</td>\n",
       "      <td>0</td>\n",
       "      <td>0.532958</td>\n",
       "      <td>1</td>\n",
       "    </tr>\n",
       "    <tr>\n",
       "      <th>1</th>\n",
       "      <td>1</td>\n",
       "      <td>0</td>\n",
       "      <td>0.707097</td>\n",
       "      <td>1</td>\n",
       "    </tr>\n",
       "    <tr>\n",
       "      <th>2</th>\n",
       "      <td>1</td>\n",
       "      <td>0</td>\n",
       "      <td>0.879106</td>\n",
       "      <td>1</td>\n",
       "    </tr>\n",
       "    <tr>\n",
       "      <th>3</th>\n",
       "      <td>1</td>\n",
       "      <td>0</td>\n",
       "      <td>0.879087</td>\n",
       "      <td>1</td>\n",
       "    </tr>\n",
       "    <tr>\n",
       "      <th>4</th>\n",
       "      <td>1</td>\n",
       "      <td>1</td>\n",
       "      <td>0.368253</td>\n",
       "      <td>0</td>\n",
       "    </tr>\n",
       "  </tbody>\n",
       "</table>\n",
       "</div>"
      ],
      "text/plain": [
       "   users  newUsers  bounceRate  Existing_Users\n",
       "0      1         0    0.532958               1\n",
       "1      1         0    0.707097               1\n",
       "2      1         0    0.879106               1\n",
       "3      1         0    0.879087               1\n",
       "4      1         1    0.368253               0"
      ]
     },
     "execution_count": 51,
     "metadata": {},
     "output_type": "execute_result"
    }
   ],
   "source": [
    "#Taking out the existing users from all users and comparing with new users\n",
    "Existing_new_users=Sales_data_copy[['users','newUsers','bounceRate']]\n",
    "Existing_new_users['Existing_Users']=Sales_data_copy['users']-Sales_data_copy['newUsers']\n",
    "Existing_new_users.head()"
   ]
  },
  {
   "cell_type": "code",
   "execution_count": 52,
   "id": "391a247e",
   "metadata": {},
   "outputs": [
    {
     "data": {
      "image/png": "[encoded data removed]",
      "text/plain": [
       "<Figure size 432x288 with 1 Axes>"
      ]
     },
     "metadata": {
      "needs_background": "light"
     },
     "output_type": "display_data"
    }
   ],
   "source": [
    "fig,ax=plt.subplots()\n",
    "ax.plot(Existing_new_users['bounceRate'].sort_values(ascending=False).head(5),Existing_new_users['Existing_Users'].sort_values(ascending=False).head(5), marker=\"o\",color='g')\n",
    "ax.set_xlabel(\"Bounce Rate\")\n",
    "ax.set_ylabel(\"Existing vs New Users\")\n",
    "ax.plot(Sales_data_copy['bounceRate'].sort_values(ascending=False).head(5), Sales_data_copy['newUsers'].sort_values(ascending=False).head(5), marker=\"o\",color='orange')\n",
    "ax.legend(['Existing_Users'])\n",
    "plt.show()"
   ]
  },
  {
   "cell_type": "markdown",
   "id": "d2db9648",
   "metadata": {},
   "source": [
    "#### KPI insight \n",
    "\n",
    "The bounce rate of first time users is comparitvely high. This could mean that the marketing campaign on source could have targeted wrong audience,for whom product(s) were irrelevant"
   ]
  },
  {
   "cell_type": "markdown",
   "id": "e7ff5d40",
   "metadata": {},
   "source": [
    "Insight: session duration \n",
    "How many seconds or minutes do people usually spend on the website?"
   ]
  },
  {
   "cell_type": "code",
   "execution_count": 53,
   "id": "dad627d4",
   "metadata": {},
   "outputs": [
    {
     "data": {
      "text/plain": [
       "Index(['Product_Name', 'Date', 'itemRevenue', 'itemQuantity',\n",
       "       'buyToDetailRate', 'productAddsToCart', 'cartToDetailRate',\n",
       "       'uniquePurchases', 'quantityAddedToCart', 'revenuePerItem',\n",
       "       'productRevenuePerPurchase', 'itemsPerPurchase', 'productDetailViews',\n",
       "       'sessions', 'bounceRate', 'pageViews', 'pageviewsPerSession',\n",
       "       'sessionDuration', 'users', 'newUsers', 'Category_split', 'Category',\n",
       "       'Product_Category'],\n",
       "      dtype='object')"
      ]
     },
     "execution_count": 53,
     "metadata": {},
     "output_type": "execute_result"
    }
   ],
   "source": [
    "Sales_data_copy.columns"
   ]
  },
  {
   "cell_type": "code",
   "execution_count": 553,
   "id": "1176fcab",
   "metadata": {
    "scrolled": true
   },
   "outputs": [
    {
     "data": {
      "text/plain": [
       "count    2170.000000\n",
       "mean      501.467742\n",
       "std       290.877658\n",
       "min         1.000000\n",
       "25%       250.250000\n",
       "50%       501.000000\n",
       "75%       755.000000\n",
       "max      1000.000000\n",
       "Name: sessionDuration, dtype: float64"
      ]
     },
     "execution_count": 553,
     "metadata": {},
     "output_type": "execute_result"
    }
   ],
   "source": [
    "Sales_data_copy['sessionDuration'].describe()"
   ]
  },
  {
   "cell_type": "code",
   "execution_count": 54,
   "id": "2316910c",
   "metadata": {
    "scrolled": true
   },
   "outputs": [
    {
     "data": {
      "image/png": "[encoded data removed]",
      "text/plain": [
       "<Figure size 432x288 with 1 Axes>"
      ]
     },
     "metadata": {
      "needs_background": "light"
     },
     "output_type": "display_data"
    }
   ],
   "source": [
    "plt.hist(Sales_data_copy['sessionDuration'],bins=20,width=45,color=['green'])\n",
    "plt.xlabel(\"Session Duration in seconds\")\n",
    "plt.ylabel(\"Frequency of durations\")\n",
    "plt.show()"
   ]
  },
  {
   "cell_type": "markdown",
   "id": "56c0ce05",
   "metadata": {},
   "source": [
    "##### EDA Insight:\n",
    "The most common session duration on the site is around 9-10 mins"
   ]
  },
  {
   "cell_type": "markdown",
   "id": "4105bf7d",
   "metadata": {},
   "source": [
    "##### KPI #2 Inventory Turnover by Product\n",
    "Which product are we turning from inventory to cash the fastest?"
   ]
  },
  {
   "cell_type": "code",
   "execution_count": 55,
   "id": "71b2faa2",
   "metadata": {
    "scrolled": false
   },
   "outputs": [
    {
     "data": {
      "image/png": "[encoded data removed]",
      "text/plain": [
       "<Figure size 1152x864 with 1 Axes>"
      ]
     },
     "metadata": {
      "needs_background": "light"
     },
     "output_type": "display_data"
    }
   ],
   "source": [
    "#will see which product sold the most in quantity versis session duration\n",
    "plt.figure(figsize=(16,12))\n",
    "Sales_data_copy.groupby('Product_Name').sum().sort_values(by=\"itemRevenue\",ascending=False).head(30)[\"itemRevenue\"].plot(kind = \"bar\",color='royalblue')\n",
    "plt.title(\"The average quantity sold per purchase in the least amount of time\")\n",
    "plt.xticks(rotation=45)\n",
    "Sales_data_copy['sessionDuration'].plot(kind='line', marker='*', color='black')\n",
    "plt.xticks(rotation=45)\n",
    "plt.show()"
   ]
  },
  {
   "cell_type": "markdown",
   "id": "b3b20e87",
   "metadata": {},
   "source": [
    "#### KPI Insight:\n",
    "\n",
    "Women's P Toes Blue Sandals have the highest inventory turnover rate. This means every second on the website, this product sells the most and the quickest. "
   ]
  },
  {
   "cell_type": "markdown",
   "id": "4ac20510",
   "metadata": {},
   "source": [
    "### KPI #3 Website Conversion\n",
    "\n",
    "What is the website conversion for every day of page visit"
   ]
  },
  {
   "cell_type": "code",
   "execution_count": 58,
   "id": "bdaf4d42",
   "metadata": {},
   "outputs": [
    {
     "data": {
      "text/plain": [
       "126"
      ]
     },
     "execution_count": 58,
     "metadata": {},
     "output_type": "execute_result"
    }
   ],
   "source": [
    "num_rows_transaction=Sales_data_copy[Sales_data_copy['itemQuantity']>0].shape[0]\n",
    "num_rows_transaction"
   ]
  },
  {
   "cell_type": "code",
   "execution_count": 59,
   "id": "ae79af7c",
   "metadata": {},
   "outputs": [],
   "source": [
    "#If the transaction took place it is coded as 1, if no transaction took place it is coded as 0\n",
    "Sales_data_copy['Transaction_or_not']=[1 if i>0 else 0 for i in Sales_data_copy['itemQuantity']]"
   ]
  },
  {
   "cell_type": "code",
   "execution_count": 60,
   "id": "f41da8fa",
   "metadata": {},
   "outputs": [],
   "source": [
    "Website_conversion_df=Sales_data_copy[['Transaction_or_not','sessions','pageViews']]"
   ]
  },
  {
   "cell_type": "code",
   "execution_count": 61,
   "id": "52934a90",
   "metadata": {
    "scrolled": true
   },
   "outputs": [
    {
     "name": "stderr",
     "output_type": "stream",
     "text": [
      "<ipython-input-61-4c6a19267cc3>:1: SettingWithCopyWarning:\n",
      "\n",
      "\n",
      "A value is trying to be set on a copy of a slice from a DataFrame.\n",
      "Try using .loc[row_indexer,col_indexer] = value instead\n",
      "\n",
      "See the caveats in the documentation: https://pandas.pydata.org/pandas-docs/stable/user_guide/indexing.html#returning-a-view-versus-a-copy\n",
      "\n"
     ]
    },
    {
     "data": {
      "text/plain": [
       "0    10.0\n",
       "1    10.0\n",
       "2    10.0\n",
       "3    10.0\n",
       "4    10.0\n",
       "Name: Website_conversion_rate, dtype: float64"
      ]
     },
     "execution_count": 61,
     "metadata": {},
     "output_type": "execute_result"
    }
   ],
   "source": [
    "Website_conversion_df['Website_conversion_rate']=(Website_conversion_df['Transaction_or_not']/Website_conversion_df['sessions']*100)\n",
    "Website_conversion_df['Website_conversion_rate'].head(5)"
   ]
  },
  {
   "cell_type": "code",
   "execution_count": 62,
   "id": "dca27870",
   "metadata": {},
   "outputs": [
    {
     "data": {
      "text/plain": [
       "<AxesSubplot:xlabel='Website_conversion_rate', ylabel='pageViews'>"
      ]
     },
     "execution_count": 62,
     "metadata": {},
     "output_type": "execute_result"
    },
    {
     "data": {
      "image/png": "[encoded data removed]",
      "text/plain": [
       "<Figure size 432x288 with 1 Axes>"
      ]
     },
     "metadata": {
      "needs_background": "light"
     },
     "output_type": "display_data"
    }
   ],
   "source": [
    "import seaborn as sns\n",
    "sns.scatterplot(y=Website_conversion_df['pageViews'],x=Website_conversion_df['Website_conversion_rate'])"
   ]
  },
  {
   "cell_type": "code",
   "execution_count": 63,
   "id": "a0f480cb",
   "metadata": {},
   "outputs": [],
   "source": [
    "website_conversion_classification=Website_conversion_df.groupby('Transaction_or_not').sum()"
   ]
  },
  {
   "cell_type": "code",
   "execution_count": 64,
   "id": "c44b18af",
   "metadata": {
    "scrolled": true
   },
   "outputs": [],
   "source": [
    "website_conversion_classification.reset_index(inplace=True)"
   ]
  },
  {
   "cell_type": "code",
   "execution_count": 65,
   "id": "6a4daf9f",
   "metadata": {},
   "outputs": [
    {
     "data": {
      "text/html": [
       "<div>\n",
       "<style scoped>\n",
       "    .dataframe tbody tr th:only-of-type {\n",
       "        vertical-align: middle;\n",
       "    }\n",
       "\n",
       "    .dataframe tbody tr th {\n",
       "        vertical-align: top;\n",
       "    }\n",
       "\n",
       "    .dataframe thead th {\n",
       "        text-align: right;\n",
       "    }\n",
       "</style>\n",
       "<table border=\"1\" class=\"dataframe\">\n",
       "  <thead>\n",
       "    <tr style=\"text-align: right;\">\n",
       "      <th></th>\n",
       "      <th>Transaction_or_not</th>\n",
       "      <th>sessions</th>\n",
       "      <th>pageViews</th>\n",
       "      <th>Website_conversion_rate</th>\n",
       "    </tr>\n",
       "  </thead>\n",
       "  <tbody>\n",
       "    <tr>\n",
       "      <th>0</th>\n",
       "      <td>0</td>\n",
       "      <td>69650</td>\n",
       "      <td>696500</td>\n",
       "      <td>0.000000</td>\n",
       "    </tr>\n",
       "    <tr>\n",
       "      <th>1</th>\n",
       "      <td>1</td>\n",
       "      <td>1460</td>\n",
       "      <td>14600</td>\n",
       "      <td>1174.166667</td>\n",
       "    </tr>\n",
       "  </tbody>\n",
       "</table>\n",
       "</div>"
      ],
      "text/plain": [
       "  Transaction_or_not  sessions  pageViews  Website_conversion_rate\n",
       "0                  0     69650     696500                 0.000000\n",
       "1                  1      1460      14600              1174.166667"
      ]
     },
     "execution_count": 65,
     "metadata": {},
     "output_type": "execute_result"
    }
   ],
   "source": [
    "website_conversion_classification['Transaction_or_not']=website_conversion_classification['Transaction_or_not'].astype('str')\n",
    "website_conversion_classification"
   ]
  },
  {
   "cell_type": "code",
   "execution_count": 66,
   "id": "76a6e6c1",
   "metadata": {
    "scrolled": true
   },
   "outputs": [
    {
     "data": {
      "text/plain": [
       "Text(0.5, 1.0, 'pageViews vs transactions')"
      ]
     },
     "execution_count": 66,
     "metadata": {},
     "output_type": "execute_result"
    },
    {
     "data": {
      "image/png": "[encoded data removed]",
      "text/plain": [
       "<Figure size 432x288 with 1 Axes>"
      ]
     },
     "metadata": {
      "needs_background": "light"
     },
     "output_type": "display_data"
    }
   ],
   "source": [
    "plt.bar(website_conversion_classification['Transaction_or_not'],website_conversion_classification['pageViews'], color ='maroon',width=0.1)\n",
    "plt.title(\"pageViews vs transactions\")"
   ]
  },
  {
   "cell_type": "markdown",
   "id": "cbdfc056",
   "metadata": {},
   "source": [
    "### KPI Insight\n",
    "Website conversion rate is low, it is calculated as transactions per session. "
   ]
  },
  {
   "cell_type": "markdown",
   "id": "2b799d04",
   "metadata": {},
   "source": [
    "#### KPI #4 Discount target audience\n",
    "From what demographic did we collect the most revenue through our discount strategy?"
   ]
  },
  {
   "cell_type": "code",
   "execution_count": 67,
   "id": "6eaf1972",
   "metadata": {},
   "outputs": [
    {
     "data": {
      "text/plain": [
       "Index(['Category', 'itemRevenue', 'itemQuantity', 'buyToDetailRate',\n",
       "       'productAddsToCart', 'cartToDetailRate', 'uniquePurchases',\n",
       "       'quantityAddedToCart', 'revenuePerItem', 'productRevenuePerPurchase',\n",
       "       'itemsPerPurchase', 'productDetailViews', 'sessions', 'bounceRate',\n",
       "       'pageViews', 'pageviewsPerSession', 'sessionDuration', 'users',\n",
       "       'newUsers'],\n",
       "      dtype='object')"
      ]
     },
     "execution_count": 67,
     "metadata": {},
     "output_type": "execute_result"
    }
   ],
   "source": [
    "temp_categories_df.columns"
   ]
  },
  {
   "cell_type": "code",
   "execution_count": 68,
   "id": "6e497edd",
   "metadata": {},
   "outputs": [
    {
     "data": {
      "image/png": "[encoded data removed]",
      "text/plain": [
       "<Figure size 432x288 with 1 Axes>"
      ]
     },
     "metadata": {},
     "output_type": "display_data"
    }
   ],
   "source": [
    "temp_categories_df\n",
    "y=temp_categories_df['productRevenuePerPurchase']\n",
    "label=temp_categories_df['Category']\n",
    "plt.pie(y,labels=label,autopct='%1.1f%%')\n",
    "plt.title('Discount Revenue share by demographic')\n",
    "plt.axis('equal')\n",
    "plt.show()\n"
   ]
  },
  {
   "cell_type": "markdown",
   "id": "df80b479",
   "metadata": {},
   "source": [
    "##### KPI Insight\n",
    "Men's products are the best performing targets for discount schemes. Boys products seem inelastic to discounts.There needs to be further investigation on channels of marketing, inventory status of Boys products "
   ]
  },
  {
   "cell_type": "markdown",
   "id": "9c52449f",
   "metadata": {},
   "source": [
    "##### KPI #5 Product most likely to be bought in bulk\n",
    "Which product has more than one units added in the cart at once "
   ]
  },
  {
   "cell_type": "code",
   "execution_count": 71,
   "id": "520cd1a9",
   "metadata": {
    "scrolled": true
   },
   "outputs": [],
   "source": [
    "Sales_data_quantity=[Sales_data_copy['quantityAddedToCart'].sort_values(ascending=False)]"
   ]
  },
  {
   "cell_type": "code",
   "execution_count": 74,
   "id": "228ed093",
   "metadata": {},
   "outputs": [
    {
     "data": {
      "text/plain": [
       "Index(['Product_Name', 'Date', 'itemRevenue', 'itemQuantity',\n",
       "       'buyToDetailRate', 'productAddsToCart', 'cartToDetailRate',\n",
       "       'uniquePurchases', 'quantityAddedToCart', 'revenuePerItem',\n",
       "       'productRevenuePerPurchase', 'itemsPerPurchase', 'productDetailViews',\n",
       "       'sessions', 'bounceRate', 'pageViews', 'pageviewsPerSession',\n",
       "       'sessionDuration', 'users', 'newUsers', 'Category_split', 'Category',\n",
       "       'Product_Category', 'Transaction_or_not'],\n",
       "      dtype='object')"
      ]
     },
     "execution_count": 74,
     "metadata": {},
     "output_type": "execute_result"
    }
   ],
   "source": [
    "Sales_data_copy.columns"
   ]
  },
  {
   "cell_type": "code",
   "execution_count": 86,
   "id": "91d7139a",
   "metadata": {},
   "outputs": [],
   "source": [
    "Sales_item_quantity=pd.DataFrame(Sales_data_copy.sort_values(by='quantityAddedToCart',ascending=False).head(10))"
   ]
  },
  {
   "cell_type": "code",
   "execution_count": 93,
   "id": "81ee8b11",
   "metadata": {},
   "outputs": [
    {
     "data": {
      "text/plain": [
       "Text(0, 0.5, 'Units')"
      ]
     },
     "execution_count": 93,
     "metadata": {},
     "output_type": "execute_result"
    },
    {
     "data": {
      "image/png": "[encoded data removed]",
      "text/plain": [
       "<Figure size 432x288 with 1 Axes>"
      ]
     },
     "metadata": {
      "needs_background": "light"
     },
     "output_type": "display_data"
    }
   ],
   "source": [
    "plt.bar(Sales_item_quantity['Product_Name'],Sales_item_quantity['quantityAddedToCart'],color='darkturquoise')\n",
    "plt.xticks(rotation=45)\n",
    "plt.title(\"Products with most units added in cart at once\")\n",
    "plt.ylabel(\"Units\")"
   ]
  },
  {
   "cell_type": "markdown",
   "id": "d02ae669",
   "metadata": {},
   "source": [
    "#### KPI Insight\n",
    "Women's Black Sandals to Women's Grey Sandals shown in the graph above have 4-5 quanitities added in the cart at once in case of some orders.\n",
    "Bulk buying of products can be targeted towards, and/or could have an existing userbase of small business/corporate buyers. A seperate landing page for bulk buying should be set up to work efficiently. \n",
    "\n",
    "However, intent to buy more than 1 units of the same product could also mean our free returns policy is but exchange might not be readily available. This happens when customers are not sure which size to buy"
   ]
  },
  {
   "cell_type": "markdown",
   "id": "8763e7dc",
   "metadata": {},
   "source": [
    "##### KPI #6 New User Metrics\n",
    "\n",
    "1.What items are new Users purchasing\n",
    "\n",
    "2.what items did they buy after viewing product details\n",
    "\n",
    "3.what items did they view the details about and added them to the cart\n",
    "\n",
    "4.did they purchase more than two types of products?"
   ]
  },
  {
   "cell_type": "code",
   "execution_count": 111,
   "id": "369a8143",
   "metadata": {},
   "outputs": [],
   "source": [
    "#subsetting the dataframe with New Users not euqal to 0\n",
    "New_Users_revenue_df=Sales_data_copy[Sales_data_copy['newUsers']>0]\n",
    "New_Users_revenue=New_Users_revenue_df.groupby('Product_Name').sum()\n",
    "New_Users_revenue.reset_index(inplace=True)"
   ]
  },
  {
   "cell_type": "code",
   "execution_count": 123,
   "id": "97bb2c8c",
   "metadata": {},
   "outputs": [],
   "source": [
    "#What item grossed  the highest amongst  new users purchases\n",
    "New_Users_revenue_0=New_Users_revenue[['Product_Name','itemRevenue','newUsers']]\n",
    "new_item_revenue=pd.DataFrame(New_Users_revenue_0.sort_values(by='itemRevenue',ascending=False).head(5))\n",
    "\n",
    "#What items were purchased after viewing product details\n",
    "New_Users_unique=New_Users_revenue[['Product_Name','buyToDetailRate','newUsers']]\n",
    "new_item_unique=pd.DataFrame(New_Users_unique.sort_values(by='buyToDetailRate',ascending=False).head(5))\n",
    "\n",
    "#What items were added to the cart after viewing product details\n",
    "New_Users_carts=New_Users_revenue[['Product_Name','cartToDetailRate','newUsers']]\n",
    "new_item_cart=pd.DataFrame(New_Users_carts.sort_values(by='cartToDetailRate',ascending=False).head(5))\n",
    "\n",
    "#Different tyes of products brought by first time users \n",
    "New_Users_revenue_sets=New_Users_revenue_df.groupby('uniquePurchases').sum()\n",
    "New_Users_revenue_sets.reset_index(inplace=True)"
   ]
  },
  {
   "cell_type": "code",
   "execution_count": 148,
   "id": "64d2b146",
   "metadata": {},
   "outputs": [
    {
     "data": {
      "text/html": [
       "<div>\n",
       "<style scoped>\n",
       "    .dataframe tbody tr th:only-of-type {\n",
       "        vertical-align: middle;\n",
       "    }\n",
       "\n",
       "    .dataframe tbody tr th {\n",
       "        vertical-align: top;\n",
       "    }\n",
       "\n",
       "    .dataframe thead th {\n",
       "        text-align: right;\n",
       "    }\n",
       "</style>\n",
       "<table border=\"1\" class=\"dataframe\">\n",
       "  <thead>\n",
       "    <tr style=\"text-align: right;\">\n",
       "      <th></th>\n",
       "      <th>uniquePurchases</th>\n",
       "      <th>newUsers</th>\n",
       "    </tr>\n",
       "  </thead>\n",
       "  <tbody>\n",
       "    <tr>\n",
       "      <th>0</th>\n",
       "      <td>0</td>\n",
       "      <td>3400</td>\n",
       "    </tr>\n",
       "    <tr>\n",
       "      <th>1</th>\n",
       "      <td>1</td>\n",
       "      <td>48</td>\n",
       "    </tr>\n",
       "    <tr>\n",
       "      <th>2</th>\n",
       "      <td>2</td>\n",
       "      <td>13</td>\n",
       "    </tr>\n",
       "    <tr>\n",
       "      <th>3</th>\n",
       "      <td>3</td>\n",
       "      <td>4</td>\n",
       "    </tr>\n",
       "    <tr>\n",
       "      <th>4</th>\n",
       "      <td>4</td>\n",
       "      <td>2</td>\n",
       "    </tr>\n",
       "  </tbody>\n",
       "</table>\n",
       "</div>"
      ],
      "text/plain": [
       "   uniquePurchases  newUsers\n",
       "0                0      3400\n",
       "1                1        48\n",
       "2                2        13\n",
       "3                3         4\n",
       "4                4         2"
      ]
     },
     "execution_count": 148,
     "metadata": {},
     "output_type": "execute_result"
    }
   ],
   "source": [
    "New_Users_revenue_sets.iloc[:,[0,-2]]"
   ]
  },
  {
   "cell_type": "code",
   "execution_count": 149,
   "id": "2a51bb0f",
   "metadata": {},
   "outputs": [
    {
     "data": {
      "image/png": "[encoded data removed]",
      "text/plain": [
       "<Figure size 1440x1440 with 4 Axes>"
      ]
     },
     "metadata": {
      "needs_background": "light"
     },
     "output_type": "display_data"
    }
   ],
   "source": [
    "plt.figure(figsize=(20,20))\n",
    "plt.subplot(3,2,1)\n",
    "plt.stem(new_item_revenue['Product_Name'],new_item_revenue['itemRevenue'])\n",
    "plt.title(\"Top 5 products by revenue purhcased by new users\")\n",
    "plt.xticks(rotation=45)\n",
    "plt.subplot(3,2,2)\n",
    "plt.stem(new_item_unique['Product_Name'],new_item_unique['buyToDetailRate'])\n",
    "plt.xticks(rotation=45)\n",
    "plt.title(\"Top 5 products purchased after viewing product details\")\n",
    "plt.subplot(3,2,3)\n",
    "plt.title(\"Top 5 products added in the cart after viewing product details\")\n",
    "plt.stem(new_item_cart['Product_Name'],new_item_cart['cartToDetailRate'])\n",
    "plt.xticks(rotation=45)\n",
    "plt.subplot(3,2,4)\n",
    "plt.stem(New_Users_revenue_sets['uniquePurchases'],New_Users_revenue_sets['newUsers'])\n",
    "plt.title(\"Different types of products as categories that new users bought\")\n",
    "plt.tight_layout()\n"
   ]
  },
  {
   "cell_type": "markdown",
   "id": "d02e729b",
   "metadata": {},
   "source": [
    "#### KPI Insight\n",
    "\n",
    "1.What items are new Users purchasing\n",
    "Men's Blue Flip Flops are the highest grossing amongst first time users which means an ad placed on marketing channels had a direct impact on new customer acquisition\n",
    "\n",
    "2.what items did they buy after viewing product details\n",
    "Men's Black Flip Flops unlike blue flip flops are checked for details before a purchase. This could reflect on customers' priority of making sure the durability, quality are up to mark\n",
    "\n",
    "3.what items did they view the details about and added them to the cart\n",
    "There are more color choices in cart adds after viewing product details as opposed to buying after adding to cart. This indicates that customers could have just been adding different options to cart and later eliminated the products they chose against before buying\n",
    "\n",
    "4.did they purchase more than two types of products?\n",
    "Most first time customers did not buy any products, but a few bought 2 different types of products on visiting the website for the first time. Marketing the broad range of products should be focussed on to improve this number\n"
   ]
  },
  {
   "cell_type": "markdown",
   "id": "a85f3045",
   "metadata": {},
   "source": [
    "### Hypothesis: Cart Abandonment decreases as session duration increases\n",
    "\n",
    "Cart Abandonment means adding products to cart but not purchasing them\n",
    "\n",
    "Note: Hypothesis testing with statistcial methods is not required for this metric as the overview  would be sufficed by a histogram"
   ]
  },
  {
   "cell_type": "code",
   "execution_count": 150,
   "id": "9b89f01f",
   "metadata": {},
   "outputs": [],
   "source": [
    "#If item was added to cart (times added>0) it is coded as 1, if item was not added it is coded as 0\n",
    "Sales_data_copy['Cart_or_not']=[1 if i>0 else 0 for i in Sales_data_copy['productAddsToCart']]"
   ]
  },
  {
   "cell_type": "code",
   "execution_count": 152,
   "id": "52e5b97f",
   "metadata": {
    "scrolled": true
   },
   "outputs": [
    {
     "data": {
      "text/plain": [
       "0    0\n",
       "1    1\n",
       "2    1\n",
       "3    1\n",
       "4    1\n",
       "Name: Cart_or_not, dtype: int64"
      ]
     },
     "execution_count": 152,
     "metadata": {},
     "output_type": "execute_result"
    }
   ],
   "source": [
    "Sales_data_copy['Cart_or_not'].head()"
   ]
  },
  {
   "cell_type": "markdown",
   "id": "a342e3c9",
   "metadata": {},
   "source": [
    "If the Cart was abandoned, that is no transaction happened after adding the product to the cart then we code the value to 0 "
   ]
  },
  {
   "cell_type": "code",
   "execution_count": 160,
   "id": "a3ffae10",
   "metadata": {},
   "outputs": [],
   "source": [
    "Sales_data_copy['Cart_Abandonment_bool'] = Sales_data_copy.apply(lambda row: row.Transaction_or_not>0 and\n",
    "                                 row.Cart_or_not>0 , axis = 1)\n",
    "  "
   ]
  },
  {
   "cell_type": "code",
   "execution_count": 162,
   "id": "89af2297",
   "metadata": {
    "scrolled": true
   },
   "outputs": [
    {
     "data": {
      "text/plain": [
       "0    False\n",
       "1     True\n",
       "2     True\n",
       "3     True\n",
       "4     True\n",
       "Name: Cart_Abandonment_bool, dtype: bool"
      ]
     },
     "execution_count": 162,
     "metadata": {},
     "output_type": "execute_result"
    }
   ],
   "source": [
    "Sales_data_copy['Cart_Abandonment_bool'].head()"
   ]
  },
  {
   "cell_type": "code",
   "execution_count": 171,
   "id": "10390595",
   "metadata": {},
   "outputs": [],
   "source": [
    "Sales_data_copy['Cart_Abandonment']=Sales_data_copy['Cart_Abandonment']=[1 if i==True else 0 for i in Sales_data_copy['Cart_Abandonment_bool']]"
   ]
  },
  {
   "cell_type": "code",
   "execution_count": 172,
   "id": "24d561bd",
   "metadata": {
    "scrolled": true
   },
   "outputs": [
    {
     "data": {
      "text/plain": [
       "0    0\n",
       "1    1\n",
       "2    1\n",
       "3    1\n",
       "4    1\n",
       "Name: Cart_Abandonment, dtype: int64"
      ]
     },
     "execution_count": 172,
     "metadata": {},
     "output_type": "execute_result"
    }
   ],
   "source": [
    "Sales_data_copy['Cart_Abandonment'].head()"
   ]
  },
  {
   "cell_type": "code",
   "execution_count": 174,
   "id": "a3af89d7",
   "metadata": {},
   "outputs": [
    {
     "data": {
      "text/plain": [
       "Text(0.5, 1.0, 'Abandonment of cart as the session duration increases')"
      ]
     },
     "execution_count": 174,
     "metadata": {},
     "output_type": "execute_result"
    },
    {
     "data": {
      "image/png": "[encoded data removed]",
      "text/plain": [
       "<Figure size 864x432 with 1 Axes>"
      ]
     },
     "metadata": {
      "needs_background": "light"
     },
     "output_type": "display_data"
    }
   ],
   "source": [
    "group_session = Sales_data_copy.groupby('Cart_Abandonment')['sessionDuration'] # group values by carrier, select minutes delayed\n",
    "group_session.plot(kind='hist', figsize=[12,6], width=10, legend=True) # alpha for transparency\n",
    "plt.title('Abandonment of cart as the session duration increases')"
   ]
  },
  {
   "cell_type": "markdown",
   "id": "2d76c3a7",
   "metadata": {},
   "source": [
    "Insight\n",
    "Even if the customers are staying for more time during each session on the website, the cart abandonment did not decrease overall. If the customer stays around 5 mins, they are carry out a transaction and abandonment increases after 5 minutes (300 second)"
   ]
  },
  {
   "cell_type": "markdown",
   "id": "fa174ff3",
   "metadata": {},
   "source": [
    "### Further Analysis possibility:\n",
    "If the cost for each item is also provided, profit margin, cost of customer acquisition could be determined.\n",
    "\n",
    "Marketing channels could be scrutinised for measuring  traffic through clicks as word of mouth is hard to track\n",
    "\n",
    "Customer IDs could help segment customers based on purchasing behavior"
   ]
  },
  {
   "cell_type": "code",
   "execution_count": null,
   "id": "59afb113",
   "metadata": {},
   "outputs": [],
   "source": []
  }
 ],
 "metadata": {
  "kernelspec": {
   "display_name": "Python 3",
   "language": "python",
   "name": "python3"
  },
  "language_info": {
   "codemirror_mode": {
    "name": "ipython",
    "version": 3
   },
   "file_extension": ".py",
   "mimetype": "text/x-python",
   "name": "python",
   "nbconvert_exporter": "python",
   "pygments_lexer": "ipython3",
   "version": "3.8.3"
  }
 },
 "nbformat": 4,
 "nbformat_minor": 5
}
